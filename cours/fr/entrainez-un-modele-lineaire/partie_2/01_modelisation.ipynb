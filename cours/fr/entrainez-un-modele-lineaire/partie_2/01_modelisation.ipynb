{
 "cells": [
  {
   "cell_type": "markdown",
   "id": "bc7f4d5e",
   "metadata": {},
   "source": [
    "# 1. Preliminary"
   ]
  },
  {
   "cell_type": "markdown",
   "id": "ec8164c5",
   "metadata": {},
   "source": [
    "## 1.1 Context"
   ]
  },
  {
   "cell_type": "markdown",
   "id": "1e3f1c90",
   "metadata": {},
   "source": [
    "<img src=\"img/kaggle.png\"\n",
    "     alt=\"img/kaggle.png\" />"
   ]
  },
  {
   "cell_type": "markdown",
   "id": "650d062d",
   "metadata": {},
   "source": [
    "## 1.2 Requirements"
   ]
  },
  {
   "cell_type": "markdown",
   "id": "7c3ab57a",
   "metadata": {},
   "source": [
    "* pandas\n",
    "* numpy\n",
    "\n",
    "\n",
    "* scikit-learn\n",
    "\n",
    "\n",
    "* matplotlib"
   ]
  },
  {
   "cell_type": "markdown",
   "id": "169f6064",
   "metadata": {},
   "source": [
    "## 1.3 Imports"
   ]
  },
  {
   "cell_type": "code",
   "execution_count": 1,
   "id": "17a771de",
   "metadata": {
    "ExecuteTime": {
     "end_time": "2022-07-01T11:47:36.471378Z",
     "start_time": "2022-07-01T11:47:36.447262Z"
    }
   },
   "outputs": [],
   "source": [
    "# builtin \n",
    "import os\n",
    "\n",
    "\n",
    "# data\n",
    "import pandas as pd\n",
    "import numpy as np\n",
    "\n",
    "\n",
    "# preprocessing\n",
    "from sklearn.preprocessing import LabelEncoder\n",
    "# metrics\n",
    "from sklearn.metrics import roc_curve, auc, confusion_matrix\n",
    "# estimators\n",
    "from sklearn.dummy import DummyClassifier\n",
    "from sklearn.linear_model import LogisticRegression\n",
    "from sklearn.svm import LinearSVC\n",
    "# model selection\n",
    "from sklearn.model_selection import train_test_split\n",
    "from sklearn.model_selection import GridSearchCV\n",
    "# metrics\n",
    "from sklearn.metrics import roc_curve, auc\n",
    "\n",
    "# visualisation\n",
    "import matplotlib.pyplot as plt\n"
   ]
  },
  {
   "cell_type": "markdown",
   "id": "fb4c46b6",
   "metadata": {},
   "source": [
    "## 1.4 Data"
   ]
  },
  {
   "cell_type": "markdown",
   "id": "e8be7432",
   "metadata": {},
   "source": [
    "<img src=\"img/tree.jpg\"\n",
    "     alt=\"img/tree.jpg\" />"
   ]
  },
  {
   "cell_type": "code",
   "execution_count": 2,
   "id": "821227ce",
   "metadata": {},
   "outputs": [
    {
     "data": {
      "text/plain": [
       "['00_EDA.ipynb',\n",
       " 'requirements.txt',\n",
       " 'env',\n",
       " 'img',\n",
       " '.ipynb_checkpoints',\n",
       " 'data',\n",
       " '01_modelisation.ipynb']"
      ]
     },
     "execution_count": 2,
     "metadata": {},
     "output_type": "execute_result"
    }
   ],
   "source": [
    "os.listdir()"
   ]
  },
  {
   "cell_type": "code",
   "execution_count": 3,
   "id": "e45dce64",
   "metadata": {},
   "outputs": [
    {
     "data": {
      "text/plain": [
       "['df_cleaned.csv']"
      ]
     },
     "execution_count": 3,
     "metadata": {},
     "output_type": "execute_result"
    }
   ],
   "source": [
    "os.listdir(\"data/cleaned/\")"
   ]
  },
  {
   "cell_type": "code",
   "execution_count": 4,
   "id": "cc6142d2",
   "metadata": {},
   "outputs": [],
   "source": [
    "path     = \"./data/cleaned/\"        \n",
    "filename = \"df_cleaned.csv\"   "
   ]
  },
  {
   "cell_type": "code",
   "execution_count": 5,
   "id": "82647905",
   "metadata": {},
   "outputs": [
    {
     "data": {
      "text/html": [
       "<div>\n",
       "<style scoped>\n",
       "    .dataframe tbody tr th:only-of-type {\n",
       "        vertical-align: middle;\n",
       "    }\n",
       "\n",
       "    .dataframe tbody tr th {\n",
       "        vertical-align: top;\n",
       "    }\n",
       "\n",
       "    .dataframe thead th {\n",
       "        text-align: right;\n",
       "    }\n",
       "</style>\n",
       "<table border=\"1\" class=\"dataframe\">\n",
       "  <thead>\n",
       "    <tr style=\"text-align: right;\">\n",
       "      <th></th>\n",
       "      <th>target</th>\n",
       "      <th>cap-shape</th>\n",
       "      <th>cap-surface</th>\n",
       "      <th>cap-color</th>\n",
       "      <th>bruises</th>\n",
       "      <th>odor</th>\n",
       "      <th>gill-attachment</th>\n",
       "      <th>gill-spacing</th>\n",
       "      <th>gill-size</th>\n",
       "      <th>gill-color</th>\n",
       "      <th>...</th>\n",
       "      <th>stalk-surface-below-ring</th>\n",
       "      <th>stalk-color-above-ring</th>\n",
       "      <th>stalk-color-below-ring</th>\n",
       "      <th>veil-type</th>\n",
       "      <th>veil-color</th>\n",
       "      <th>ring-number</th>\n",
       "      <th>ring-type</th>\n",
       "      <th>spore-print-color</th>\n",
       "      <th>population</th>\n",
       "      <th>habitat</th>\n",
       "    </tr>\n",
       "  </thead>\n",
       "  <tbody>\n",
       "    <tr>\n",
       "      <th>0</th>\n",
       "      <td>1</td>\n",
       "      <td>5</td>\n",
       "      <td>2</td>\n",
       "      <td>4</td>\n",
       "      <td>1</td>\n",
       "      <td>6</td>\n",
       "      <td>1</td>\n",
       "      <td>0</td>\n",
       "      <td>1</td>\n",
       "      <td>4</td>\n",
       "      <td>...</td>\n",
       "      <td>2</td>\n",
       "      <td>7</td>\n",
       "      <td>7</td>\n",
       "      <td>0</td>\n",
       "      <td>2</td>\n",
       "      <td>1</td>\n",
       "      <td>4</td>\n",
       "      <td>2</td>\n",
       "      <td>3</td>\n",
       "      <td>5</td>\n",
       "    </tr>\n",
       "    <tr>\n",
       "      <th>1</th>\n",
       "      <td>0</td>\n",
       "      <td>5</td>\n",
       "      <td>2</td>\n",
       "      <td>9</td>\n",
       "      <td>1</td>\n",
       "      <td>0</td>\n",
       "      <td>1</td>\n",
       "      <td>0</td>\n",
       "      <td>0</td>\n",
       "      <td>4</td>\n",
       "      <td>...</td>\n",
       "      <td>2</td>\n",
       "      <td>7</td>\n",
       "      <td>7</td>\n",
       "      <td>0</td>\n",
       "      <td>2</td>\n",
       "      <td>1</td>\n",
       "      <td>4</td>\n",
       "      <td>3</td>\n",
       "      <td>2</td>\n",
       "      <td>1</td>\n",
       "    </tr>\n",
       "    <tr>\n",
       "      <th>2</th>\n",
       "      <td>0</td>\n",
       "      <td>0</td>\n",
       "      <td>2</td>\n",
       "      <td>8</td>\n",
       "      <td>1</td>\n",
       "      <td>3</td>\n",
       "      <td>1</td>\n",
       "      <td>0</td>\n",
       "      <td>0</td>\n",
       "      <td>5</td>\n",
       "      <td>...</td>\n",
       "      <td>2</td>\n",
       "      <td>7</td>\n",
       "      <td>7</td>\n",
       "      <td>0</td>\n",
       "      <td>2</td>\n",
       "      <td>1</td>\n",
       "      <td>4</td>\n",
       "      <td>3</td>\n",
       "      <td>2</td>\n",
       "      <td>3</td>\n",
       "    </tr>\n",
       "    <tr>\n",
       "      <th>3</th>\n",
       "      <td>1</td>\n",
       "      <td>5</td>\n",
       "      <td>3</td>\n",
       "      <td>8</td>\n",
       "      <td>1</td>\n",
       "      <td>6</td>\n",
       "      <td>1</td>\n",
       "      <td>0</td>\n",
       "      <td>1</td>\n",
       "      <td>5</td>\n",
       "      <td>...</td>\n",
       "      <td>2</td>\n",
       "      <td>7</td>\n",
       "      <td>7</td>\n",
       "      <td>0</td>\n",
       "      <td>2</td>\n",
       "      <td>1</td>\n",
       "      <td>4</td>\n",
       "      <td>2</td>\n",
       "      <td>3</td>\n",
       "      <td>5</td>\n",
       "    </tr>\n",
       "    <tr>\n",
       "      <th>4</th>\n",
       "      <td>0</td>\n",
       "      <td>5</td>\n",
       "      <td>2</td>\n",
       "      <td>3</td>\n",
       "      <td>0</td>\n",
       "      <td>5</td>\n",
       "      <td>1</td>\n",
       "      <td>1</td>\n",
       "      <td>0</td>\n",
       "      <td>4</td>\n",
       "      <td>...</td>\n",
       "      <td>2</td>\n",
       "      <td>7</td>\n",
       "      <td>7</td>\n",
       "      <td>0</td>\n",
       "      <td>2</td>\n",
       "      <td>1</td>\n",
       "      <td>0</td>\n",
       "      <td>3</td>\n",
       "      <td>0</td>\n",
       "      <td>1</td>\n",
       "    </tr>\n",
       "  </tbody>\n",
       "</table>\n",
       "<p>5 rows × 23 columns</p>\n",
       "</div>"
      ],
      "text/plain": [
       "   target  cap-shape  cap-surface  cap-color  bruises  odor  gill-attachment  \\\n",
       "0       1          5            2          4        1     6                1   \n",
       "1       0          5            2          9        1     0                1   \n",
       "2       0          0            2          8        1     3                1   \n",
       "3       1          5            3          8        1     6                1   \n",
       "4       0          5            2          3        0     5                1   \n",
       "\n",
       "   gill-spacing  gill-size  gill-color  ...  stalk-surface-below-ring  \\\n",
       "0             0          1           4  ...                         2   \n",
       "1             0          0           4  ...                         2   \n",
       "2             0          0           5  ...                         2   \n",
       "3             0          1           5  ...                         2   \n",
       "4             1          0           4  ...                         2   \n",
       "\n",
       "   stalk-color-above-ring  stalk-color-below-ring  veil-type  veil-color  \\\n",
       "0                       7                       7          0           2   \n",
       "1                       7                       7          0           2   \n",
       "2                       7                       7          0           2   \n",
       "3                       7                       7          0           2   \n",
       "4                       7                       7          0           2   \n",
       "\n",
       "   ring-number  ring-type  spore-print-color  population  habitat  \n",
       "0            1          4                  2           3        5  \n",
       "1            1          4                  3           2        1  \n",
       "2            1          4                  3           2        3  \n",
       "3            1          4                  2           3        5  \n",
       "4            1          0                  3           0        1  \n",
       "\n",
       "[5 rows x 23 columns]"
      ]
     },
     "execution_count": 5,
     "metadata": {},
     "output_type": "execute_result"
    }
   ],
   "source": [
    "df = pd.read_csv(path + filename)\n",
    "df.head()"
   ]
  },
  {
   "cell_type": "code",
   "execution_count": 6,
   "id": "be7705ed",
   "metadata": {
    "scrolled": true
   },
   "outputs": [],
   "source": [
    "df.to_csv(\"data/cleaned/df_cleaned.csv\", index=False)"
   ]
  },
  {
   "cell_type": "markdown",
   "id": "dc5e8ea6",
   "metadata": {},
   "source": [
    "# 2. Modelisation"
   ]
  },
  {
   "cell_type": "markdown",
   "id": "b860c269",
   "metadata": {},
   "source": [
    "## 2.1 Data preparation"
   ]
  },
  {
   "cell_type": "code",
   "execution_count": 7,
   "id": "fb559f5f",
   "metadata": {},
   "outputs": [],
   "source": [
    "X = df.drop(columns=\"target\")\n",
    "y = df.target"
   ]
  },
  {
   "cell_type": "code",
   "execution_count": 8,
   "id": "ef25bbbc",
   "metadata": {},
   "outputs": [
    {
     "data": {
      "text/html": [
       "<div>\n",
       "<style scoped>\n",
       "    .dataframe tbody tr th:only-of-type {\n",
       "        vertical-align: middle;\n",
       "    }\n",
       "\n",
       "    .dataframe tbody tr th {\n",
       "        vertical-align: top;\n",
       "    }\n",
       "\n",
       "    .dataframe thead th {\n",
       "        text-align: right;\n",
       "    }\n",
       "</style>\n",
       "<table border=\"1\" class=\"dataframe\">\n",
       "  <thead>\n",
       "    <tr style=\"text-align: right;\">\n",
       "      <th></th>\n",
       "      <th>cap-shape</th>\n",
       "      <th>cap-surface</th>\n",
       "      <th>cap-color</th>\n",
       "      <th>bruises</th>\n",
       "      <th>odor</th>\n",
       "      <th>gill-attachment</th>\n",
       "      <th>gill-spacing</th>\n",
       "      <th>gill-size</th>\n",
       "      <th>gill-color</th>\n",
       "      <th>stalk-shape</th>\n",
       "      <th>...</th>\n",
       "      <th>stalk-surface-below-ring</th>\n",
       "      <th>stalk-color-above-ring</th>\n",
       "      <th>stalk-color-below-ring</th>\n",
       "      <th>veil-type</th>\n",
       "      <th>veil-color</th>\n",
       "      <th>ring-number</th>\n",
       "      <th>ring-type</th>\n",
       "      <th>spore-print-color</th>\n",
       "      <th>population</th>\n",
       "      <th>habitat</th>\n",
       "    </tr>\n",
       "  </thead>\n",
       "  <tbody>\n",
       "    <tr>\n",
       "      <th>0</th>\n",
       "      <td>5</td>\n",
       "      <td>2</td>\n",
       "      <td>4</td>\n",
       "      <td>1</td>\n",
       "      <td>6</td>\n",
       "      <td>1</td>\n",
       "      <td>0</td>\n",
       "      <td>1</td>\n",
       "      <td>4</td>\n",
       "      <td>0</td>\n",
       "      <td>...</td>\n",
       "      <td>2</td>\n",
       "      <td>7</td>\n",
       "      <td>7</td>\n",
       "      <td>0</td>\n",
       "      <td>2</td>\n",
       "      <td>1</td>\n",
       "      <td>4</td>\n",
       "      <td>2</td>\n",
       "      <td>3</td>\n",
       "      <td>5</td>\n",
       "    </tr>\n",
       "    <tr>\n",
       "      <th>1</th>\n",
       "      <td>5</td>\n",
       "      <td>2</td>\n",
       "      <td>9</td>\n",
       "      <td>1</td>\n",
       "      <td>0</td>\n",
       "      <td>1</td>\n",
       "      <td>0</td>\n",
       "      <td>0</td>\n",
       "      <td>4</td>\n",
       "      <td>0</td>\n",
       "      <td>...</td>\n",
       "      <td>2</td>\n",
       "      <td>7</td>\n",
       "      <td>7</td>\n",
       "      <td>0</td>\n",
       "      <td>2</td>\n",
       "      <td>1</td>\n",
       "      <td>4</td>\n",
       "      <td>3</td>\n",
       "      <td>2</td>\n",
       "      <td>1</td>\n",
       "    </tr>\n",
       "    <tr>\n",
       "      <th>2</th>\n",
       "      <td>0</td>\n",
       "      <td>2</td>\n",
       "      <td>8</td>\n",
       "      <td>1</td>\n",
       "      <td>3</td>\n",
       "      <td>1</td>\n",
       "      <td>0</td>\n",
       "      <td>0</td>\n",
       "      <td>5</td>\n",
       "      <td>0</td>\n",
       "      <td>...</td>\n",
       "      <td>2</td>\n",
       "      <td>7</td>\n",
       "      <td>7</td>\n",
       "      <td>0</td>\n",
       "      <td>2</td>\n",
       "      <td>1</td>\n",
       "      <td>4</td>\n",
       "      <td>3</td>\n",
       "      <td>2</td>\n",
       "      <td>3</td>\n",
       "    </tr>\n",
       "    <tr>\n",
       "      <th>3</th>\n",
       "      <td>5</td>\n",
       "      <td>3</td>\n",
       "      <td>8</td>\n",
       "      <td>1</td>\n",
       "      <td>6</td>\n",
       "      <td>1</td>\n",
       "      <td>0</td>\n",
       "      <td>1</td>\n",
       "      <td>5</td>\n",
       "      <td>0</td>\n",
       "      <td>...</td>\n",
       "      <td>2</td>\n",
       "      <td>7</td>\n",
       "      <td>7</td>\n",
       "      <td>0</td>\n",
       "      <td>2</td>\n",
       "      <td>1</td>\n",
       "      <td>4</td>\n",
       "      <td>2</td>\n",
       "      <td>3</td>\n",
       "      <td>5</td>\n",
       "    </tr>\n",
       "    <tr>\n",
       "      <th>4</th>\n",
       "      <td>5</td>\n",
       "      <td>2</td>\n",
       "      <td>3</td>\n",
       "      <td>0</td>\n",
       "      <td>5</td>\n",
       "      <td>1</td>\n",
       "      <td>1</td>\n",
       "      <td>0</td>\n",
       "      <td>4</td>\n",
       "      <td>1</td>\n",
       "      <td>...</td>\n",
       "      <td>2</td>\n",
       "      <td>7</td>\n",
       "      <td>7</td>\n",
       "      <td>0</td>\n",
       "      <td>2</td>\n",
       "      <td>1</td>\n",
       "      <td>0</td>\n",
       "      <td>3</td>\n",
       "      <td>0</td>\n",
       "      <td>1</td>\n",
       "    </tr>\n",
       "  </tbody>\n",
       "</table>\n",
       "<p>5 rows × 22 columns</p>\n",
       "</div>"
      ],
      "text/plain": [
       "   cap-shape  cap-surface  cap-color  bruises  odor  gill-attachment  \\\n",
       "0          5            2          4        1     6                1   \n",
       "1          5            2          9        1     0                1   \n",
       "2          0            2          8        1     3                1   \n",
       "3          5            3          8        1     6                1   \n",
       "4          5            2          3        0     5                1   \n",
       "\n",
       "   gill-spacing  gill-size  gill-color  stalk-shape  ...  \\\n",
       "0             0          1           4            0  ...   \n",
       "1             0          0           4            0  ...   \n",
       "2             0          0           5            0  ...   \n",
       "3             0          1           5            0  ...   \n",
       "4             1          0           4            1  ...   \n",
       "\n",
       "   stalk-surface-below-ring  stalk-color-above-ring  stalk-color-below-ring  \\\n",
       "0                         2                       7                       7   \n",
       "1                         2                       7                       7   \n",
       "2                         2                       7                       7   \n",
       "3                         2                       7                       7   \n",
       "4                         2                       7                       7   \n",
       "\n",
       "   veil-type  veil-color  ring-number  ring-type  spore-print-color  \\\n",
       "0          0           2            1          4                  2   \n",
       "1          0           2            1          4                  3   \n",
       "2          0           2            1          4                  3   \n",
       "3          0           2            1          4                  2   \n",
       "4          0           2            1          0                  3   \n",
       "\n",
       "   population  habitat  \n",
       "0           3        5  \n",
       "1           2        1  \n",
       "2           2        3  \n",
       "3           3        5  \n",
       "4           0        1  \n",
       "\n",
       "[5 rows x 22 columns]"
      ]
     },
     "execution_count": 8,
     "metadata": {},
     "output_type": "execute_result"
    }
   ],
   "source": [
    "X.head()"
   ]
  },
  {
   "cell_type": "code",
   "execution_count": 9,
   "id": "f169ac22",
   "metadata": {},
   "outputs": [
    {
     "data": {
      "text/plain": [
       "0    1\n",
       "1    0\n",
       "2    0\n",
       "3    1\n",
       "4    0\n",
       "Name: target, dtype: int64"
      ]
     },
     "execution_count": 9,
     "metadata": {},
     "output_type": "execute_result"
    }
   ],
   "source": [
    "y.head()"
   ]
  },
  {
   "cell_type": "code",
   "execution_count": 10,
   "id": "7daa63cc",
   "metadata": {},
   "outputs": [],
   "source": [
    "X_train, X_test, y_train, y_test = train_test_split(X, \n",
    "                                                    y, \n",
    "                                                    test_size=0.3, \n",
    "                                                    random_state=42)"
   ]
  },
  {
   "cell_type": "code",
   "execution_count": 11,
   "id": "59557947",
   "metadata": {},
   "outputs": [
    {
     "name": "stdout",
     "output_type": "stream",
     "text": [
      "Nous avons X_train de forme (5686, 22) et y_train de forme  (5686,)  \n",
      "Nous avons X_test de forme (2438, 22) et y_test de forme  (2438,)  \n"
     ]
    }
   ],
   "source": [
    "print(f\"Nous avons X_train de forme {X_train.shape} et y_train de forme  {y_train.shape}  \")\n",
    "print(f\"Nous avons X_test de forme {X_test.shape} et y_test de forme  {y_test.shape}  \")"
   ]
  },
  {
   "cell_type": "markdown",
   "id": "c04fd577",
   "metadata": {},
   "source": [
    "## 2.2 Dummy classifier"
   ]
  },
  {
   "cell_type": "code",
   "execution_count": 12,
   "id": "e1d234c5",
   "metadata": {},
   "outputs": [
    {
     "data": {
      "text/html": [
       "<style>#sk-container-id-1 {color: black;background-color: white;}#sk-container-id-1 pre{padding: 0;}#sk-container-id-1 div.sk-toggleable {background-color: white;}#sk-container-id-1 label.sk-toggleable__label {cursor: pointer;display: block;width: 100%;margin-bottom: 0;padding: 0.3em;box-sizing: border-box;text-align: center;}#sk-container-id-1 label.sk-toggleable__label-arrow:before {content: \"▸\";float: left;margin-right: 0.25em;color: #696969;}#sk-container-id-1 label.sk-toggleable__label-arrow:hover:before {color: black;}#sk-container-id-1 div.sk-estimator:hover label.sk-toggleable__label-arrow:before {color: black;}#sk-container-id-1 div.sk-toggleable__content {max-height: 0;max-width: 0;overflow: hidden;text-align: left;background-color: #f0f8ff;}#sk-container-id-1 div.sk-toggleable__content pre {margin: 0.2em;color: black;border-radius: 0.25em;background-color: #f0f8ff;}#sk-container-id-1 input.sk-toggleable__control:checked~div.sk-toggleable__content {max-height: 200px;max-width: 100%;overflow: auto;}#sk-container-id-1 input.sk-toggleable__control:checked~label.sk-toggleable__label-arrow:before {content: \"▾\";}#sk-container-id-1 div.sk-estimator input.sk-toggleable__control:checked~label.sk-toggleable__label {background-color: #d4ebff;}#sk-container-id-1 div.sk-label input.sk-toggleable__control:checked~label.sk-toggleable__label {background-color: #d4ebff;}#sk-container-id-1 input.sk-hidden--visually {border: 0;clip: rect(1px 1px 1px 1px);clip: rect(1px, 1px, 1px, 1px);height: 1px;margin: -1px;overflow: hidden;padding: 0;position: absolute;width: 1px;}#sk-container-id-1 div.sk-estimator {font-family: monospace;background-color: #f0f8ff;border: 1px dotted black;border-radius: 0.25em;box-sizing: border-box;margin-bottom: 0.5em;}#sk-container-id-1 div.sk-estimator:hover {background-color: #d4ebff;}#sk-container-id-1 div.sk-parallel-item::after {content: \"\";width: 100%;border-bottom: 1px solid gray;flex-grow: 1;}#sk-container-id-1 div.sk-label:hover label.sk-toggleable__label {background-color: #d4ebff;}#sk-container-id-1 div.sk-serial::before {content: \"\";position: absolute;border-left: 1px solid gray;box-sizing: border-box;top: 0;bottom: 0;left: 50%;z-index: 0;}#sk-container-id-1 div.sk-serial {display: flex;flex-direction: column;align-items: center;background-color: white;padding-right: 0.2em;padding-left: 0.2em;position: relative;}#sk-container-id-1 div.sk-item {position: relative;z-index: 1;}#sk-container-id-1 div.sk-parallel {display: flex;align-items: stretch;justify-content: center;background-color: white;position: relative;}#sk-container-id-1 div.sk-item::before, #sk-container-id-1 div.sk-parallel-item::before {content: \"\";position: absolute;border-left: 1px solid gray;box-sizing: border-box;top: 0;bottom: 0;left: 50%;z-index: -1;}#sk-container-id-1 div.sk-parallel-item {display: flex;flex-direction: column;z-index: 1;position: relative;background-color: white;}#sk-container-id-1 div.sk-parallel-item:first-child::after {align-self: flex-end;width: 50%;}#sk-container-id-1 div.sk-parallel-item:last-child::after {align-self: flex-start;width: 50%;}#sk-container-id-1 div.sk-parallel-item:only-child::after {width: 0;}#sk-container-id-1 div.sk-dashed-wrapped {border: 1px dashed gray;margin: 0 0.4em 0.5em 0.4em;box-sizing: border-box;padding-bottom: 0.4em;background-color: white;}#sk-container-id-1 div.sk-label label {font-family: monospace;font-weight: bold;display: inline-block;line-height: 1.2em;}#sk-container-id-1 div.sk-label-container {text-align: center;}#sk-container-id-1 div.sk-container {/* jupyter's `normalize.less` sets `[hidden] { display: none; }` but bootstrap.min.css set `[hidden] { display: none !important; }` so we also need the `!important` here to be able to override the default hidden behavior on the sphinx rendered scikit-learn.org. See: https://github.com/scikit-learn/scikit-learn/issues/21755 */display: inline-block !important;position: relative;}#sk-container-id-1 div.sk-text-repr-fallback {display: none;}</style><div id=\"sk-container-id-1\" class=\"sk-top-container\"><div class=\"sk-text-repr-fallback\"><pre>DummyClassifier()</pre><b>In a Jupyter environment, please rerun this cell to show the HTML representation or trust the notebook. <br />On GitHub, the HTML representation is unable to render, please try loading this page with nbviewer.org.</b></div><div class=\"sk-container\" hidden><div class=\"sk-item\"><div class=\"sk-estimator sk-toggleable\"><input class=\"sk-toggleable__control sk-hidden--visually\" id=\"sk-estimator-id-1\" type=\"checkbox\" checked><label for=\"sk-estimator-id-1\" class=\"sk-toggleable__label sk-toggleable__label-arrow\">DummyClassifier</label><div class=\"sk-toggleable__content\"><pre>DummyClassifier()</pre></div></div></div></div></div>"
      ],
      "text/plain": [
       "DummyClassifier()"
      ]
     },
     "execution_count": 12,
     "metadata": {},
     "output_type": "execute_result"
    }
   ],
   "source": [
    "estimator = DummyClassifier()\n",
    "estimator.fit(X_train, y_train)"
   ]
  },
  {
   "cell_type": "code",
   "execution_count": 13,
   "id": "bbcd5482",
   "metadata": {},
   "outputs": [
    {
     "data": {
      "text/plain": [
       "0.52"
      ]
     },
     "execution_count": 13,
     "metadata": {},
     "output_type": "execute_result"
    }
   ],
   "source": [
    "estimator.score(X_train, y_train).round(2)"
   ]
  },
  {
   "cell_type": "code",
   "execution_count": 14,
   "id": "b51ed30e",
   "metadata": {},
   "outputs": [
    {
     "data": {
      "text/plain": [
       "0.52"
      ]
     },
     "execution_count": 14,
     "metadata": {},
     "output_type": "execute_result"
    }
   ],
   "source": [
    "estimator.score(X_test, y_test).round(2)"
   ]
  },
  {
   "cell_type": "code",
   "execution_count": 15,
   "id": "ef60893e",
   "metadata": {},
   "outputs": [
    {
     "data": {
      "text/plain": [
       "array([0, 0, 0, ..., 0, 0, 0])"
      ]
     },
     "execution_count": 15,
     "metadata": {},
     "output_type": "execute_result"
    }
   ],
   "source": [
    "y_pred = estimator.predict(X_test)\n",
    "y_pred"
   ]
  },
  {
   "cell_type": "code",
   "execution_count": 16,
   "id": "18bb21ce",
   "metadata": {},
   "outputs": [
    {
     "data": {
      "text/plain": [
       "0    1257\n",
       "1    1181\n",
       "Name: target, dtype: int64"
      ]
     },
     "execution_count": 16,
     "metadata": {},
     "output_type": "execute_result"
    }
   ],
   "source": [
    "y_test.value_counts()"
   ]
  },
  {
   "cell_type": "code",
   "execution_count": 17,
   "id": "aa3be7a3",
   "metadata": {},
   "outputs": [
    {
     "data": {
      "text/plain": [
       "0    2438\n",
       "dtype: int64"
      ]
     },
     "execution_count": 17,
     "metadata": {},
     "output_type": "execute_result"
    }
   ],
   "source": [
    "pd.Series(y_pred).value_counts()"
   ]
  },
  {
   "cell_type": "code",
   "execution_count": 18,
   "id": "a9dfc884",
   "metadata": {},
   "outputs": [
    {
     "name": "stdout",
     "output_type": "stream",
     "text": [
      "score train : 0.519 score test : 0.5156 \n"
     ]
    }
   ],
   "source": [
    "tr_score = estimator.score(X_train, y_train).round(4)\n",
    "te_score = estimator.score(X_test, y_test).round(4)\n",
    "\n",
    "print(f\"score train : {tr_score} score test : {te_score} \")"
   ]
  },
  {
   "cell_type": "code",
   "execution_count": 19,
   "id": "ab84c92a",
   "metadata": {},
   "outputs": [],
   "source": [
    "def score(estimator):\n",
    "    \"\"\"compute and print train score and test score\"\"\"\n",
    "    \n",
    "    tr_score = estimator.score(X_train, y_train).round(4)\n",
    "    te_score = estimator.score(X_test, y_test).round(4)\n",
    "\n",
    "    print(f\"score train : {tr_score} score test : {te_score} \")"
   ]
  },
  {
   "cell_type": "code",
   "execution_count": 20,
   "id": "bf5b68c0",
   "metadata": {},
   "outputs": [
    {
     "name": "stdout",
     "output_type": "stream",
     "text": [
      "score train : 0.519 score test : 0.5156 \n"
     ]
    }
   ],
   "source": [
    "score(estimator)"
   ]
  },
  {
   "cell_type": "code",
   "execution_count": 21,
   "id": "f3f2473e",
   "metadata": {},
   "outputs": [
    {
     "data": {
      "text/plain": [
       "array([[1257,    0],\n",
       "       [1181,    0]])"
      ]
     },
     "execution_count": 21,
     "metadata": {},
     "output_type": "execute_result"
    }
   ],
   "source": [
    "mat = confusion_matrix(y_test, y_pred)\n",
    "mat"
   ]
  },
  {
   "cell_type": "code",
   "execution_count": 22,
   "id": "3ccb1db0",
   "metadata": {},
   "outputs": [
    {
     "data": {
      "text/html": [
       "<div>\n",
       "<style scoped>\n",
       "    .dataframe tbody tr th:only-of-type {\n",
       "        vertical-align: middle;\n",
       "    }\n",
       "\n",
       "    .dataframe tbody tr th {\n",
       "        vertical-align: top;\n",
       "    }\n",
       "\n",
       "    .dataframe thead th {\n",
       "        text-align: right;\n",
       "    }\n",
       "</style>\n",
       "<table border=\"1\" class=\"dataframe\">\n",
       "  <thead>\n",
       "    <tr style=\"text-align: right;\">\n",
       "      <th></th>\n",
       "      <th>0</th>\n",
       "      <th>1</th>\n",
       "    </tr>\n",
       "  </thead>\n",
       "  <tbody>\n",
       "    <tr>\n",
       "      <th>0</th>\n",
       "      <td>1257</td>\n",
       "      <td>0</td>\n",
       "    </tr>\n",
       "    <tr>\n",
       "      <th>1</th>\n",
       "      <td>1181</td>\n",
       "      <td>0</td>\n",
       "    </tr>\n",
       "  </tbody>\n",
       "</table>\n",
       "</div>"
      ],
      "text/plain": [
       "      0  1\n",
       "0  1257  0\n",
       "1  1181  0"
      ]
     },
     "execution_count": 22,
     "metadata": {},
     "output_type": "execute_result"
    }
   ],
   "source": [
    "mat = pd.DataFrame(mat)\n",
    "mat"
   ]
  },
  {
   "cell_type": "code",
   "execution_count": 23,
   "id": "03433580",
   "metadata": {},
   "outputs": [
    {
     "data": {
      "text/html": [
       "<div>\n",
       "<style scoped>\n",
       "    .dataframe tbody tr th:only-of-type {\n",
       "        vertical-align: middle;\n",
       "    }\n",
       "\n",
       "    .dataframe tbody tr th {\n",
       "        vertical-align: top;\n",
       "    }\n",
       "\n",
       "    .dataframe thead th {\n",
       "        text-align: right;\n",
       "    }\n",
       "</style>\n",
       "<table border=\"1\" class=\"dataframe\">\n",
       "  <thead>\n",
       "    <tr style=\"text-align: right;\">\n",
       "      <th></th>\n",
       "      <th>pred_0</th>\n",
       "      <th>pred_1</th>\n",
       "    </tr>\n",
       "  </thead>\n",
       "  <tbody>\n",
       "    <tr>\n",
       "      <th>test_0</th>\n",
       "      <td>1257</td>\n",
       "      <td>0</td>\n",
       "    </tr>\n",
       "    <tr>\n",
       "      <th>test_1</th>\n",
       "      <td>1181</td>\n",
       "      <td>0</td>\n",
       "    </tr>\n",
       "  </tbody>\n",
       "</table>\n",
       "</div>"
      ],
      "text/plain": [
       "        pred_0  pred_1\n",
       "test_0    1257       0\n",
       "test_1    1181       0"
      ]
     },
     "execution_count": 23,
     "metadata": {},
     "output_type": "execute_result"
    }
   ],
   "source": [
    "mat = pd.DataFrame(mat)\n",
    "mat.columns = [f\"pred_{i}\" for i in mat.columns]\n",
    "mat.index = [f\"test_{i}\" for i in mat.index]\n",
    "mat"
   ]
  },
  {
   "cell_type": "code",
   "execution_count": 24,
   "id": "81eadac5",
   "metadata": {},
   "outputs": [],
   "source": [
    "def confusion(y_test, y_pred) : \n",
    "    \"\"\"display a fancy confusion matrix \"\"\"\n",
    "\n",
    "    mat = confusion_matrix(y_test, y_pred)\n",
    "    mat = pd.DataFrame(mat)\n",
    "    mat.columns = [f\"pred_{i}\" for i in mat.columns]\n",
    "    mat.index = [f\"test_{i}\" for i in mat.index]\n",
    "    \n",
    "    return mat"
   ]
  },
  {
   "cell_type": "code",
   "execution_count": 25,
   "id": "40dbfdcf",
   "metadata": {},
   "outputs": [
    {
     "data": {
      "text/html": [
       "<div>\n",
       "<style scoped>\n",
       "    .dataframe tbody tr th:only-of-type {\n",
       "        vertical-align: middle;\n",
       "    }\n",
       "\n",
       "    .dataframe tbody tr th {\n",
       "        vertical-align: top;\n",
       "    }\n",
       "\n",
       "    .dataframe thead th {\n",
       "        text-align: right;\n",
       "    }\n",
       "</style>\n",
       "<table border=\"1\" class=\"dataframe\">\n",
       "  <thead>\n",
       "    <tr style=\"text-align: right;\">\n",
       "      <th></th>\n",
       "      <th>pred_0</th>\n",
       "      <th>pred_1</th>\n",
       "    </tr>\n",
       "  </thead>\n",
       "  <tbody>\n",
       "    <tr>\n",
       "      <th>test_0</th>\n",
       "      <td>1257</td>\n",
       "      <td>0</td>\n",
       "    </tr>\n",
       "    <tr>\n",
       "      <th>test_1</th>\n",
       "      <td>1181</td>\n",
       "      <td>0</td>\n",
       "    </tr>\n",
       "  </tbody>\n",
       "</table>\n",
       "</div>"
      ],
      "text/plain": [
       "        pred_0  pred_1\n",
       "test_0    1257       0\n",
       "test_1    1181       0"
      ]
     },
     "execution_count": 25,
     "metadata": {},
     "output_type": "execute_result"
    }
   ],
   "source": [
    "confusion(y_test, y_pred)"
   ]
  },
  {
   "cell_type": "code",
   "execution_count": 26,
   "id": "17c666ba",
   "metadata": {},
   "outputs": [
    {
     "data": {
      "text/plain": [
       "0.5"
      ]
     },
     "execution_count": 26,
     "metadata": {},
     "output_type": "execute_result"
    }
   ],
   "source": [
    "false_positive_rate, true_positive_rate, thresholds = roc_curve(y_test, y_pred)\n",
    "roc_auc = auc(false_positive_rate, true_positive_rate)\n",
    "roc_auc"
   ]
  },
  {
   "cell_type": "code",
   "execution_count": 27,
   "id": "b9317741",
   "metadata": {},
   "outputs": [
    {
     "data": {
      "image/png": "[encoded data removed]",
      "text/plain": [
       "<Figure size 720x720 with 1 Axes>"
      ]
     },
     "metadata": {
      "needs_background": "light"
     },
     "output_type": "display_data"
    }
   ],
   "source": [
    "plt.figure(figsize=(10,10))\n",
    "plt.title('Receiver Operating Characteristic')\n",
    "plt.plot(false_positive_rate,true_positive_rate, color='red',label = 'AUC = %0.2f' % roc_auc)\n",
    "plt.legend(loc = 'lower right')\n",
    "plt.plot([0, 1], [0, 1],linestyle='--')\n",
    "plt.axis('tight')\n",
    "plt.ylabel('True Positive Rate')\n",
    "plt.xlabel('False Positive Rate')\n",
    "plt.show()"
   ]
  },
  {
   "cell_type": "code",
   "execution_count": null,
   "id": "4422b66e",
   "metadata": {},
   "outputs": [],
   "source": []
  },
  {
   "cell_type": "code",
   "execution_count": null,
   "id": "33aeb77b",
   "metadata": {},
   "outputs": [],
   "source": []
  },
  {
   "cell_type": "code",
   "execution_count": 28,
   "id": "697ebd28",
   "metadata": {},
   "outputs": [
    {
     "data": {
      "text/html": [
       "<div>\n",
       "<style scoped>\n",
       "    .dataframe tbody tr th:only-of-type {\n",
       "        vertical-align: middle;\n",
       "    }\n",
       "\n",
       "    .dataframe tbody tr th {\n",
       "        vertical-align: top;\n",
       "    }\n",
       "\n",
       "    .dataframe thead th {\n",
       "        text-align: right;\n",
       "    }\n",
       "</style>\n",
       "<table border=\"1\" class=\"dataframe\">\n",
       "  <thead>\n",
       "    <tr style=\"text-align: right;\">\n",
       "      <th></th>\n",
       "      <th>pred_pred_0</th>\n",
       "      <th>pred_pred_1</th>\n",
       "    </tr>\n",
       "  </thead>\n",
       "  <tbody>\n",
       "    <tr>\n",
       "      <th>test_test_0</th>\n",
       "      <td>1257</td>\n",
       "      <td>0</td>\n",
       "    </tr>\n",
       "    <tr>\n",
       "      <th>test_test_1</th>\n",
       "      <td>1181</td>\n",
       "      <td>0</td>\n",
       "    </tr>\n",
       "  </tbody>\n",
       "</table>\n",
       "</div>"
      ],
      "text/plain": [
       "             pred_pred_0  pred_pred_1\n",
       "test_test_0         1257            0\n",
       "test_test_1         1181            0"
      ]
     },
     "execution_count": 28,
     "metadata": {},
     "output_type": "execute_result"
    }
   ],
   "source": [
    "mat = pd.DataFrame(mat)\n",
    "mat.columns = [f\"pred_{i}\" for i in mat.columns]\n",
    "mat.index = [f\"test_{i}\" for i in mat.index]\n",
    "mat"
   ]
  },
  {
   "cell_type": "markdown",
   "id": "040c6c78",
   "metadata": {},
   "source": [
    "## 4.3 Logistic regression"
   ]
  },
  {
   "cell_type": "markdown",
   "id": "34597abe",
   "metadata": {},
   "source": [
    "### 4.3.1  Without GridSearch"
   ]
  },
  {
   "cell_type": "code",
   "execution_count": 29,
   "id": "588f4d26",
   "metadata": {},
   "outputs": [
    {
     "name": "stderr",
     "output_type": "stream",
     "text": [
      "/Users/alexandre.gazagnes/Desktop/content/cours/fr/entrainez-un-modele-lineaire/partie_2/env/lib/python3.10/site-packages/sklearn/linear_model/_logistic.py:444: ConvergenceWarning: lbfgs failed to converge (status=1):\n",
      "STOP: TOTAL NO. of ITERATIONS REACHED LIMIT.\n",
      "\n",
      "Increase the number of iterations (max_iter) or scale the data as shown in:\n",
      "    https://scikit-learn.org/stable/modules/preprocessing.html\n",
      "Please also refer to the documentation for alternative solver options:\n",
      "    https://scikit-learn.org/stable/modules/linear_model.html#logistic-regression\n",
      "  n_iter_i = _check_optimize_result(\n"
     ]
    },
    {
     "data": {
      "text/html": [
       "<style>#sk-container-id-2 {color: black;background-color: white;}#sk-container-id-2 pre{padding: 0;}#sk-container-id-2 div.sk-toggleable {background-color: white;}#sk-container-id-2 label.sk-toggleable__label {cursor: pointer;display: block;width: 100%;margin-bottom: 0;padding: 0.3em;box-sizing: border-box;text-align: center;}#sk-container-id-2 label.sk-toggleable__label-arrow:before {content: \"▸\";float: left;margin-right: 0.25em;color: #696969;}#sk-container-id-2 label.sk-toggleable__label-arrow:hover:before {color: black;}#sk-container-id-2 div.sk-estimator:hover label.sk-toggleable__label-arrow:before {color: black;}#sk-container-id-2 div.sk-toggleable__content {max-height: 0;max-width: 0;overflow: hidden;text-align: left;background-color: #f0f8ff;}#sk-container-id-2 div.sk-toggleable__content pre {margin: 0.2em;color: black;border-radius: 0.25em;background-color: #f0f8ff;}#sk-container-id-2 input.sk-toggleable__control:checked~div.sk-toggleable__content {max-height: 200px;max-width: 100%;overflow: auto;}#sk-container-id-2 input.sk-toggleable__control:checked~label.sk-toggleable__label-arrow:before {content: \"▾\";}#sk-container-id-2 div.sk-estimator input.sk-toggleable__control:checked~label.sk-toggleable__label {background-color: #d4ebff;}#sk-container-id-2 div.sk-label input.sk-toggleable__control:checked~label.sk-toggleable__label {background-color: #d4ebff;}#sk-container-id-2 input.sk-hidden--visually {border: 0;clip: rect(1px 1px 1px 1px);clip: rect(1px, 1px, 1px, 1px);height: 1px;margin: -1px;overflow: hidden;padding: 0;position: absolute;width: 1px;}#sk-container-id-2 div.sk-estimator {font-family: monospace;background-color: #f0f8ff;border: 1px dotted black;border-radius: 0.25em;box-sizing: border-box;margin-bottom: 0.5em;}#sk-container-id-2 div.sk-estimator:hover {background-color: #d4ebff;}#sk-container-id-2 div.sk-parallel-item::after {content: \"\";width: 100%;border-bottom: 1px solid gray;flex-grow: 1;}#sk-container-id-2 div.sk-label:hover label.sk-toggleable__label {background-color: #d4ebff;}#sk-container-id-2 div.sk-serial::before {content: \"\";position: absolute;border-left: 1px solid gray;box-sizing: border-box;top: 0;bottom: 0;left: 50%;z-index: 0;}#sk-container-id-2 div.sk-serial {display: flex;flex-direction: column;align-items: center;background-color: white;padding-right: 0.2em;padding-left: 0.2em;position: relative;}#sk-container-id-2 div.sk-item {position: relative;z-index: 1;}#sk-container-id-2 div.sk-parallel {display: flex;align-items: stretch;justify-content: center;background-color: white;position: relative;}#sk-container-id-2 div.sk-item::before, #sk-container-id-2 div.sk-parallel-item::before {content: \"\";position: absolute;border-left: 1px solid gray;box-sizing: border-box;top: 0;bottom: 0;left: 50%;z-index: -1;}#sk-container-id-2 div.sk-parallel-item {display: flex;flex-direction: column;z-index: 1;position: relative;background-color: white;}#sk-container-id-2 div.sk-parallel-item:first-child::after {align-self: flex-end;width: 50%;}#sk-container-id-2 div.sk-parallel-item:last-child::after {align-self: flex-start;width: 50%;}#sk-container-id-2 div.sk-parallel-item:only-child::after {width: 0;}#sk-container-id-2 div.sk-dashed-wrapped {border: 1px dashed gray;margin: 0 0.4em 0.5em 0.4em;box-sizing: border-box;padding-bottom: 0.4em;background-color: white;}#sk-container-id-2 div.sk-label label {font-family: monospace;font-weight: bold;display: inline-block;line-height: 1.2em;}#sk-container-id-2 div.sk-label-container {text-align: center;}#sk-container-id-2 div.sk-container {/* jupyter's `normalize.less` sets `[hidden] { display: none; }` but bootstrap.min.css set `[hidden] { display: none !important; }` so we also need the `!important` here to be able to override the default hidden behavior on the sphinx rendered scikit-learn.org. See: https://github.com/scikit-learn/scikit-learn/issues/21755 */display: inline-block !important;position: relative;}#sk-container-id-2 div.sk-text-repr-fallback {display: none;}</style><div id=\"sk-container-id-2\" class=\"sk-top-container\"><div class=\"sk-text-repr-fallback\"><pre>LogisticRegression()</pre><b>In a Jupyter environment, please rerun this cell to show the HTML representation or trust the notebook. <br />On GitHub, the HTML representation is unable to render, please try loading this page with nbviewer.org.</b></div><div class=\"sk-container\" hidden><div class=\"sk-item\"><div class=\"sk-estimator sk-toggleable\"><input class=\"sk-toggleable__control sk-hidden--visually\" id=\"sk-estimator-id-2\" type=\"checkbox\" checked><label for=\"sk-estimator-id-2\" class=\"sk-toggleable__label sk-toggleable__label-arrow\">LogisticRegression</label><div class=\"sk-toggleable__content\"><pre>LogisticRegression()</pre></div></div></div></div></div>"
      ],
      "text/plain": [
       "LogisticRegression()"
      ]
     },
     "execution_count": 29,
     "metadata": {},
     "output_type": "execute_result"
    }
   ],
   "source": [
    "# Entrainons la Regression Logistique\n",
    "\n",
    "lr = LogisticRegression()\n",
    "lr.fit(X_train, y_train)"
   ]
  },
  {
   "cell_type": "code",
   "execution_count": 30,
   "id": "e26ae1b7",
   "metadata": {},
   "outputs": [
    {
     "data": {
      "text/plain": [
       "array([0, 1, 1, ..., 1, 0, 0])"
      ]
     },
     "execution_count": 30,
     "metadata": {},
     "output_type": "execute_result"
    }
   ],
   "source": [
    "# On récupère la prédiction de la valeur positive\n",
    "y_pred = lr.predict(X_test)\n",
    "y_pred"
   ]
  },
  {
   "cell_type": "code",
   "execution_count": 31,
   "id": "b031c999",
   "metadata": {},
   "outputs": [
    {
     "data": {
      "text/plain": [
       "array([[1.  , 0.  ],\n",
       "       [0.09, 0.91],\n",
       "       [0.  , 1.  ],\n",
       "       ...,\n",
       "       [0.09, 0.91],\n",
       "       [1.  , 0.  ],\n",
       "       [0.96, 0.04]])"
      ]
     },
     "execution_count": 31,
     "metadata": {},
     "output_type": "execute_result"
    }
   ],
   "source": [
    "# on peut accéder directement aux probalités de la classe 0 ou 1 de cette façon\n",
    "\n",
    "y_prob = lr.predict_proba(X_test).round(2)\n",
    "y_prob"
   ]
  },
  {
   "cell_type": "code",
   "execution_count": 32,
   "id": "4eeb43ea",
   "metadata": {},
   "outputs": [
    {
     "data": {
      "text/plain": [
       "0.95"
      ]
     },
     "execution_count": 32,
     "metadata": {},
     "output_type": "execute_result"
    }
   ],
   "source": [
    "lr.score(X_train, y_train).round(2)"
   ]
  },
  {
   "cell_type": "code",
   "execution_count": 33,
   "id": "169dc1ba",
   "metadata": {},
   "outputs": [
    {
     "data": {
      "text/plain": [
       "0.95"
      ]
     },
     "execution_count": 33,
     "metadata": {},
     "output_type": "execute_result"
    }
   ],
   "source": [
    "lr.score(X_test, y_test).round(2)"
   ]
  },
  {
   "cell_type": "code",
   "execution_count": 34,
   "id": "e4913e70",
   "metadata": {},
   "outputs": [
    {
     "name": "stdout",
     "output_type": "stream",
     "text": [
      "0.95\n"
     ]
    }
   ],
   "source": [
    "false_positive_rate, true_positive_rate, thresholds = roc_curve(y_test, y_pred)\n",
    "roc_auc = auc(false_positive_rate, true_positive_rate).round(2)\n",
    "print(roc_auc)"
   ]
  },
  {
   "cell_type": "code",
   "execution_count": 35,
   "id": "8bba8e0b",
   "metadata": {},
   "outputs": [
    {
     "data": {
      "image/png": "[encoded data removed]",
      "text/plain": [
       "<Figure size 720x720 with 1 Axes>"
      ]
     },
     "metadata": {
      "needs_background": "light"
     },
     "output_type": "display_data"
    }
   ],
   "source": [
    "\n",
    "plt.figure(figsize=(10,10))\n",
    "plt.title('Receiver Operating Characteristic')\n",
    "plt.plot(false_positive_rate,true_positive_rate, color='red',label = 'AUC = %0.2f' % roc_auc)\n",
    "plt.legend(loc = 'lower right')\n",
    "plt.plot([0, 1], [0, 1],linestyle='--')\n",
    "plt.axis('tight')\n",
    "plt.ylabel('True Positive Rate')\n",
    "plt.xlabel('False Positive Rate')\n",
    "plt.show()"
   ]
  },
  {
   "cell_type": "code",
   "execution_count": 36,
   "id": "92345f5e",
   "metadata": {},
   "outputs": [
    {
     "data": {
      "text/html": [
       "<div>\n",
       "<style scoped>\n",
       "    .dataframe tbody tr th:only-of-type {\n",
       "        vertical-align: middle;\n",
       "    }\n",
       "\n",
       "    .dataframe tbody tr th {\n",
       "        vertical-align: top;\n",
       "    }\n",
       "\n",
       "    .dataframe thead th {\n",
       "        text-align: right;\n",
       "    }\n",
       "</style>\n",
       "<table border=\"1\" class=\"dataframe\">\n",
       "  <thead>\n",
       "    <tr style=\"text-align: right;\">\n",
       "      <th></th>\n",
       "      <th>pred_0</th>\n",
       "      <th>pred_1</th>\n",
       "    </tr>\n",
       "  </thead>\n",
       "  <tbody>\n",
       "    <tr>\n",
       "      <th>test_0</th>\n",
       "      <td>1200</td>\n",
       "      <td>57</td>\n",
       "    </tr>\n",
       "    <tr>\n",
       "      <th>test_1</th>\n",
       "      <td>65</td>\n",
       "      <td>1116</td>\n",
       "    </tr>\n",
       "  </tbody>\n",
       "</table>\n",
       "</div>"
      ],
      "text/plain": [
       "        pred_0  pred_1\n",
       "test_0    1200      57\n",
       "test_1      65    1116"
      ]
     },
     "execution_count": 36,
     "metadata": {},
     "output_type": "execute_result"
    }
   ],
   "source": [
    "mat = confusion_matrix(y_test, y_pred)\n",
    "mat = pd.DataFrame(mat)\n",
    "mat.columns = [f\"pred_{i}\" for i in mat.columns]\n",
    "mat.index = [f\"test_{i}\" for i in mat.index]\n",
    "mat"
   ]
  },
  {
   "cell_type": "markdown",
   "id": "8fc2a5bf",
   "metadata": {},
   "source": [
    "### 4.3.2 Using GridSearch"
   ]
  },
  {
   "cell_type": "code",
   "execution_count": 37,
   "id": "c1219e81",
   "metadata": {},
   "outputs": [],
   "source": [
    "estimator = LogisticRegression(solver = 'liblinear')\n",
    "params = {  'C': np.logspace(-3, 3, 7) , \n",
    "            'penalty':['l1','l2'] }"
   ]
  },
  {
   "cell_type": "code",
   "execution_count": 38,
   "id": "e1fd1442",
   "metadata": {},
   "outputs": [
    {
     "name": "stdout",
     "output_type": "stream",
     "text": [
      "Fitting 5 folds for each of 14 candidates, totalling 70 fits\n"
     ]
    },
    {
     "name": "stderr",
     "output_type": "stream",
     "text": [
      "/Users/alexandre.gazagnes/Desktop/content/cours/fr/entrainez-un-modele-lineaire/partie_2/env/lib/python3.10/site-packages/sklearn/svm/_base.py:1225: ConvergenceWarning: Liblinear failed to converge, increase the number of iterations.\n",
      "  warnings.warn(\n",
      "/Users/alexandre.gazagnes/Desktop/content/cours/fr/entrainez-un-modele-lineaire/partie_2/env/lib/python3.10/site-packages/sklearn/svm/_base.py:1225: ConvergenceWarning: Liblinear failed to converge, increase the number of iterations.\n",
      "  warnings.warn(\n",
      "/Users/alexandre.gazagnes/Desktop/content/cours/fr/entrainez-un-modele-lineaire/partie_2/env/lib/python3.10/site-packages/sklearn/svm/_base.py:1225: ConvergenceWarning: Liblinear failed to converge, increase the number of iterations.\n",
      "  warnings.warn(\n",
      "/Users/alexandre.gazagnes/Desktop/content/cours/fr/entrainez-un-modele-lineaire/partie_2/env/lib/python3.10/site-packages/sklearn/svm/_base.py:1225: ConvergenceWarning: Liblinear failed to converge, increase the number of iterations.\n",
      "  warnings.warn(\n"
     ]
    },
    {
     "data": {
      "text/html": [
       "<style>#sk-container-id-3 {color: black;background-color: white;}#sk-container-id-3 pre{padding: 0;}#sk-container-id-3 div.sk-toggleable {background-color: white;}#sk-container-id-3 label.sk-toggleable__label {cursor: pointer;display: block;width: 100%;margin-bottom: 0;padding: 0.3em;box-sizing: border-box;text-align: center;}#sk-container-id-3 label.sk-toggleable__label-arrow:before {content: \"▸\";float: left;margin-right: 0.25em;color: #696969;}#sk-container-id-3 label.sk-toggleable__label-arrow:hover:before {color: black;}#sk-container-id-3 div.sk-estimator:hover label.sk-toggleable__label-arrow:before {color: black;}#sk-container-id-3 div.sk-toggleable__content {max-height: 0;max-width: 0;overflow: hidden;text-align: left;background-color: #f0f8ff;}#sk-container-id-3 div.sk-toggleable__content pre {margin: 0.2em;color: black;border-radius: 0.25em;background-color: #f0f8ff;}#sk-container-id-3 input.sk-toggleable__control:checked~div.sk-toggleable__content {max-height: 200px;max-width: 100%;overflow: auto;}#sk-container-id-3 input.sk-toggleable__control:checked~label.sk-toggleable__label-arrow:before {content: \"▾\";}#sk-container-id-3 div.sk-estimator input.sk-toggleable__control:checked~label.sk-toggleable__label {background-color: #d4ebff;}#sk-container-id-3 div.sk-label input.sk-toggleable__control:checked~label.sk-toggleable__label {background-color: #d4ebff;}#sk-container-id-3 input.sk-hidden--visually {border: 0;clip: rect(1px 1px 1px 1px);clip: rect(1px, 1px, 1px, 1px);height: 1px;margin: -1px;overflow: hidden;padding: 0;position: absolute;width: 1px;}#sk-container-id-3 div.sk-estimator {font-family: monospace;background-color: #f0f8ff;border: 1px dotted black;border-radius: 0.25em;box-sizing: border-box;margin-bottom: 0.5em;}#sk-container-id-3 div.sk-estimator:hover {background-color: #d4ebff;}#sk-container-id-3 div.sk-parallel-item::after {content: \"\";width: 100%;border-bottom: 1px solid gray;flex-grow: 1;}#sk-container-id-3 div.sk-label:hover label.sk-toggleable__label {background-color: #d4ebff;}#sk-container-id-3 div.sk-serial::before {content: \"\";position: absolute;border-left: 1px solid gray;box-sizing: border-box;top: 0;bottom: 0;left: 50%;z-index: 0;}#sk-container-id-3 div.sk-serial {display: flex;flex-direction: column;align-items: center;background-color: white;padding-right: 0.2em;padding-left: 0.2em;position: relative;}#sk-container-id-3 div.sk-item {position: relative;z-index: 1;}#sk-container-id-3 div.sk-parallel {display: flex;align-items: stretch;justify-content: center;background-color: white;position: relative;}#sk-container-id-3 div.sk-item::before, #sk-container-id-3 div.sk-parallel-item::before {content: \"\";position: absolute;border-left: 1px solid gray;box-sizing: border-box;top: 0;bottom: 0;left: 50%;z-index: -1;}#sk-container-id-3 div.sk-parallel-item {display: flex;flex-direction: column;z-index: 1;position: relative;background-color: white;}#sk-container-id-3 div.sk-parallel-item:first-child::after {align-self: flex-end;width: 50%;}#sk-container-id-3 div.sk-parallel-item:last-child::after {align-self: flex-start;width: 50%;}#sk-container-id-3 div.sk-parallel-item:only-child::after {width: 0;}#sk-container-id-3 div.sk-dashed-wrapped {border: 1px dashed gray;margin: 0 0.4em 0.5em 0.4em;box-sizing: border-box;padding-bottom: 0.4em;background-color: white;}#sk-container-id-3 div.sk-label label {font-family: monospace;font-weight: bold;display: inline-block;line-height: 1.2em;}#sk-container-id-3 div.sk-label-container {text-align: center;}#sk-container-id-3 div.sk-container {/* jupyter's `normalize.less` sets `[hidden] { display: none; }` but bootstrap.min.css set `[hidden] { display: none !important; }` so we also need the `!important` here to be able to override the default hidden behavior on the sphinx rendered scikit-learn.org. See: https://github.com/scikit-learn/scikit-learn/issues/21755 */display: inline-block !important;position: relative;}#sk-container-id-3 div.sk-text-repr-fallback {display: none;}</style><div id=\"sk-container-id-3\" class=\"sk-top-container\"><div class=\"sk-text-repr-fallback\"><pre>GridSearchCV(cv=5, estimator=LogisticRegression(solver=&#x27;liblinear&#x27;), n_jobs=-1,\n",
       "             param_grid={&#x27;C&#x27;: array([1.e-03, 1.e-02, 1.e-01, 1.e+00, 1.e+01, 1.e+02, 1.e+03]),\n",
       "                         &#x27;penalty&#x27;: [&#x27;l1&#x27;, &#x27;l2&#x27;]},\n",
       "             return_train_score=True, verbose=1)</pre><b>In a Jupyter environment, please rerun this cell to show the HTML representation or trust the notebook. <br />On GitHub, the HTML representation is unable to render, please try loading this page with nbviewer.org.</b></div><div class=\"sk-container\" hidden><div class=\"sk-item sk-dashed-wrapped\"><div class=\"sk-label-container\"><div class=\"sk-label sk-toggleable\"><input class=\"sk-toggleable__control sk-hidden--visually\" id=\"sk-estimator-id-3\" type=\"checkbox\" ><label for=\"sk-estimator-id-3\" class=\"sk-toggleable__label sk-toggleable__label-arrow\">GridSearchCV</label><div class=\"sk-toggleable__content\"><pre>GridSearchCV(cv=5, estimator=LogisticRegression(solver=&#x27;liblinear&#x27;), n_jobs=-1,\n",
       "             param_grid={&#x27;C&#x27;: array([1.e-03, 1.e-02, 1.e-01, 1.e+00, 1.e+01, 1.e+02, 1.e+03]),\n",
       "                         &#x27;penalty&#x27;: [&#x27;l1&#x27;, &#x27;l2&#x27;]},\n",
       "             return_train_score=True, verbose=1)</pre></div></div></div><div class=\"sk-parallel\"><div class=\"sk-parallel-item\"><div class=\"sk-item\"><div class=\"sk-label-container\"><div class=\"sk-label sk-toggleable\"><input class=\"sk-toggleable__control sk-hidden--visually\" id=\"sk-estimator-id-4\" type=\"checkbox\" ><label for=\"sk-estimator-id-4\" class=\"sk-toggleable__label sk-toggleable__label-arrow\">estimator: LogisticRegression</label><div class=\"sk-toggleable__content\"><pre>LogisticRegression(solver=&#x27;liblinear&#x27;)</pre></div></div></div><div class=\"sk-serial\"><div class=\"sk-item\"><div class=\"sk-estimator sk-toggleable\"><input class=\"sk-toggleable__control sk-hidden--visually\" id=\"sk-estimator-id-5\" type=\"checkbox\" ><label for=\"sk-estimator-id-5\" class=\"sk-toggleable__label sk-toggleable__label-arrow\">LogisticRegression</label><div class=\"sk-toggleable__content\"><pre>LogisticRegression(solver=&#x27;liblinear&#x27;)</pre></div></div></div></div></div></div></div></div></div></div>"
      ],
      "text/plain": [
       "GridSearchCV(cv=5, estimator=LogisticRegression(solver='liblinear'), n_jobs=-1,\n",
       "             param_grid={'C': array([1.e-03, 1.e-02, 1.e-01, 1.e+00, 1.e+01, 1.e+02, 1.e+03]),\n",
       "                         'penalty': ['l1', 'l2']},\n",
       "             return_train_score=True, verbose=1)"
      ]
     },
     "execution_count": 38,
     "metadata": {},
     "output_type": "execute_result"
    }
   ],
   "source": [
    "grid = GridSearchCV(estimator, \n",
    "                    params, \n",
    "                    cv=5, \n",
    "                    n_jobs=-1, \n",
    "                    return_train_score=True, \n",
    "                    verbose=1)\n",
    "\n",
    "grid.fit(X_train, y_train)"
   ]
  },
  {
   "cell_type": "code",
   "execution_count": 39,
   "id": "dcb1d612",
   "metadata": {},
   "outputs": [
    {
     "name": "stdout",
     "output_type": "stream",
     "text": [
      "{'C': 1000.0, 'penalty': 'l2'}\n"
     ]
    }
   ],
   "source": [
    "print(grid.best_params_)"
   ]
  },
  {
   "cell_type": "code",
   "execution_count": 40,
   "id": "677f49f4",
   "metadata": {},
   "outputs": [
    {
     "data": {
      "text/plain": [
       "{'mean_fit_time': array([0.00812578, 0.0134614 , 0.03190284, 0.01224542, 0.09716978,\n",
       "        0.01950612, 2.39539261, 0.02818198, 3.42267241, 0.04733353,\n",
       "        3.35903411, 0.06723175, 3.65603576, 0.07250037]),\n",
       " 'std_fit_time': array([0.00148281, 0.00425488, 0.00813326, 0.00180461, 0.01307638,\n",
       "        0.00672651, 0.50714175, 0.00685191, 0.73542768, 0.00950349,\n",
       "        0.73033052, 0.01420972, 0.40084924, 0.0091217 ]),\n",
       " 'mean_score_time': array([0.00180306, 0.00174918, 0.00108438, 0.00095625, 0.00127964,\n",
       "        0.00072675, 0.00099735, 0.00122919, 0.00132155, 0.00146127,\n",
       "        0.00097213, 0.00072675, 0.00073748, 0.0006968 ]),\n",
       " 'std_score_time': array([1.16777567e-03, 1.08498790e-03, 5.42224811e-04, 2.29171550e-04,\n",
       "        6.88739924e-04, 1.91362065e-05, 5.03142979e-04, 6.53595556e-04,\n",
       "        7.24033017e-04, 9.86926352e-04, 5.40974133e-04, 3.50770048e-05,\n",
       "        4.55461615e-05, 3.30512480e-05]),\n",
       " 'param_C': masked_array(data=[0.001, 0.001, 0.01, 0.01, 0.1, 0.1, 1.0, 1.0, 10.0,\n",
       "                    10.0, 100.0, 100.0, 1000.0, 1000.0],\n",
       "              mask=[False, False, False, False, False, False, False, False,\n",
       "                    False, False, False, False, False, False],\n",
       "        fill_value='?',\n",
       "             dtype=object),\n",
       " 'param_penalty': masked_array(data=['l1', 'l2', 'l1', 'l2', 'l1', 'l2', 'l1', 'l2', 'l1',\n",
       "                    'l2', 'l1', 'l2', 'l1', 'l2'],\n",
       "              mask=[False, False, False, False, False, False, False, False,\n",
       "                    False, False, False, False, False, False],\n",
       "        fill_value='?',\n",
       "             dtype=object),\n",
       " 'params': [{'C': 0.001, 'penalty': 'l1'},\n",
       "  {'C': 0.001, 'penalty': 'l2'},\n",
       "  {'C': 0.01, 'penalty': 'l1'},\n",
       "  {'C': 0.01, 'penalty': 'l2'},\n",
       "  {'C': 0.1, 'penalty': 'l1'},\n",
       "  {'C': 0.1, 'penalty': 'l2'},\n",
       "  {'C': 1.0, 'penalty': 'l1'},\n",
       "  {'C': 1.0, 'penalty': 'l2'},\n",
       "  {'C': 10.0, 'penalty': 'l1'},\n",
       "  {'C': 10.0, 'penalty': 'l2'},\n",
       "  {'C': 100.0, 'penalty': 'l1'},\n",
       "  {'C': 100.0, 'penalty': 'l2'},\n",
       "  {'C': 1000.0, 'penalty': 'l1'},\n",
       "  {'C': 1000.0, 'penalty': 'l2'}],\n",
       " 'split0_test_score': array([0.77240773, 0.87082601, 0.90509666, 0.9086116 , 0.95342707,\n",
       "        0.94288225, 0.96660808, 0.95869947, 0.97803163, 0.96660808,\n",
       "        0.9771529 , 0.97803163, 0.97891037, 0.97891037]),\n",
       " 'split1_test_score': array([0.764292  , 0.85751979, 0.89094107, 0.9058927 , 0.94195251,\n",
       "        0.93315743, 0.94898857, 0.94459103, 0.95426561, 0.94635004,\n",
       "        0.95514512, 0.9533861 , 0.95514512, 0.95514512]),\n",
       " 'split2_test_score': array([0.7880387 , 0.87247142, 0.89709763, 0.90677221, 0.94459103,\n",
       "        0.93491645, 0.94898857, 0.94722955, 0.9525066 , 0.94898857,\n",
       "        0.9533861 , 0.9525066 , 0.9533861 , 0.95426561]),\n",
       " 'split3_test_score': array([0.7651715 , 0.86543536, 0.89885664, 0.90325418, 0.94283201,\n",
       "        0.93139842, 0.94722955, 0.94459103, 0.9525066 , 0.94547054,\n",
       "        0.95426561, 0.9533861 , 0.95426561, 0.95426561]),\n",
       " 'split4_test_score': array([0.76693052, 0.86719437, 0.89797713, 0.91116974, 0.94283201,\n",
       "        0.92875989, 0.94722955, 0.94019349, 0.94986807, 0.94459103,\n",
       "        0.95074758, 0.94722955, 0.95074758, 0.95426561]),\n",
       " 'mean_test_score': array([0.77136809, 0.86668939, 0.89799383, 0.90714009, 0.94512693,\n",
       "        0.93422289, 0.95180886, 0.94706091, 0.9574357 , 0.95040165,\n",
       "        0.95813946, 0.956908  , 0.95849096, 0.95937046]),\n",
       " 'std_test_score': array([0.00879944, 0.00522403, 0.00451086, 0.00265311, 0.00423768,\n",
       "        0.00478378, 0.00744131, 0.00624254, 0.0103933 , 0.00823578,\n",
       "        0.00961996, 0.01080796, 0.01031523, 0.00977589]),\n",
       " 'rank_test_score': array([14, 13, 12, 11,  9, 10,  6,  8,  4,  7,  3,  5,  2,  1],\n",
       "       dtype=int32),\n",
       " 'split0_train_score': array([0.77110818, 0.86543536, 0.89753738, 0.90919085, 0.9439314 ,\n",
       "        0.93271768, 0.96240106, 0.95074758, 0.97295515, 0.95954266,\n",
       "        0.97229551, 0.97251539, 0.97383465, 0.97405453]),\n",
       " 'split1_train_score': array([0.77313695, 0.86964168, 0.89997802, 0.90789184, 0.94504287,\n",
       "        0.93515058, 0.95427566, 0.95031875, 0.95955155, 0.95273687,\n",
       "        0.96109035, 0.95867224, 0.96109035, 0.96087052]),\n",
       " 'split2_train_score': array([0.76720158, 0.86678391, 0.90261596, 0.91404704, 0.94636184,\n",
       "        0.9375687 , 0.95581446, 0.94987909, 0.96043086, 0.95405584,\n",
       "        0.96218949, 0.96043086, 0.96218949, 0.96262915]),\n",
       " 'split3_train_score': array([0.77291712, 0.86656408, 0.89690042, 0.90701253, 0.94482304,\n",
       "        0.9344911 , 0.94877995, 0.94680149, 0.95207738, 0.94834029,\n",
       "        0.95383601, 0.95317652, 0.95383601, 0.95383601]),\n",
       " 'split4_train_score': array([0.77247747, 0.86744339, 0.89887887, 0.9083315 , 0.94504287,\n",
       "        0.93471093, 0.95317652, 0.94768081, 0.95801275, 0.94877995,\n",
       "        0.95933172, 0.95735326, 0.95955155, 0.95977138]),\n",
       " 'mean_train_score': array([0.77136826, 0.86717368, 0.89918213, 0.90929475, 0.9450404 ,\n",
       "        0.9349278 , 0.95488953, 0.94908555, 0.96060554, 0.95269112,\n",
       "        0.96174862, 0.96042966, 0.96210041, 0.96223232]),\n",
       " 'std_train_score': array([0.00219938, 0.00139349, 0.00202129, 0.00247789, 0.0007776 ,\n",
       "        0.00155861, 0.00442531, 0.00155583, 0.00682798, 0.00407517,\n",
       "        0.00600526, 0.00649963, 0.00653479, 0.00660804])}"
      ]
     },
     "execution_count": 40,
     "metadata": {},
     "output_type": "execute_result"
    }
   ],
   "source": [
    "res = grid.cv_results_\n",
    "res"
   ]
  },
  {
   "cell_type": "code",
   "execution_count": 41,
   "id": "9c8f5018",
   "metadata": {},
   "outputs": [
    {
     "data": {
      "text/html": [
       "<div>\n",
       "<style scoped>\n",
       "    .dataframe tbody tr th:only-of-type {\n",
       "        vertical-align: middle;\n",
       "    }\n",
       "\n",
       "    .dataframe tbody tr th {\n",
       "        vertical-align: top;\n",
       "    }\n",
       "\n",
       "    .dataframe thead th {\n",
       "        text-align: right;\n",
       "    }\n",
       "</style>\n",
       "<table border=\"1\" class=\"dataframe\">\n",
       "  <thead>\n",
       "    <tr style=\"text-align: right;\">\n",
       "      <th></th>\n",
       "      <th>mean_fit_time</th>\n",
       "      <th>std_fit_time</th>\n",
       "      <th>mean_score_time</th>\n",
       "      <th>std_score_time</th>\n",
       "      <th>param_C</th>\n",
       "      <th>param_penalty</th>\n",
       "      <th>params</th>\n",
       "      <th>split0_test_score</th>\n",
       "      <th>split1_test_score</th>\n",
       "      <th>split2_test_score</th>\n",
       "      <th>...</th>\n",
       "      <th>mean_test_score</th>\n",
       "      <th>std_test_score</th>\n",
       "      <th>rank_test_score</th>\n",
       "      <th>split0_train_score</th>\n",
       "      <th>split1_train_score</th>\n",
       "      <th>split2_train_score</th>\n",
       "      <th>split3_train_score</th>\n",
       "      <th>split4_train_score</th>\n",
       "      <th>mean_train_score</th>\n",
       "      <th>std_train_score</th>\n",
       "    </tr>\n",
       "  </thead>\n",
       "  <tbody>\n",
       "    <tr>\n",
       "      <th>0</th>\n",
       "      <td>0.008126</td>\n",
       "      <td>0.001483</td>\n",
       "      <td>0.001803</td>\n",
       "      <td>0.001168</td>\n",
       "      <td>0.001</td>\n",
       "      <td>l1</td>\n",
       "      <td>{'C': 0.001, 'penalty': 'l1'}</td>\n",
       "      <td>0.772408</td>\n",
       "      <td>0.764292</td>\n",
       "      <td>0.788039</td>\n",
       "      <td>...</td>\n",
       "      <td>0.771368</td>\n",
       "      <td>0.008799</td>\n",
       "      <td>14</td>\n",
       "      <td>0.771108</td>\n",
       "      <td>0.773137</td>\n",
       "      <td>0.767202</td>\n",
       "      <td>0.772917</td>\n",
       "      <td>0.772477</td>\n",
       "      <td>0.771368</td>\n",
       "      <td>0.002199</td>\n",
       "    </tr>\n",
       "    <tr>\n",
       "      <th>1</th>\n",
       "      <td>0.013461</td>\n",
       "      <td>0.004255</td>\n",
       "      <td>0.001749</td>\n",
       "      <td>0.001085</td>\n",
       "      <td>0.001</td>\n",
       "      <td>l2</td>\n",
       "      <td>{'C': 0.001, 'penalty': 'l2'}</td>\n",
       "      <td>0.870826</td>\n",
       "      <td>0.857520</td>\n",
       "      <td>0.872471</td>\n",
       "      <td>...</td>\n",
       "      <td>0.866689</td>\n",
       "      <td>0.005224</td>\n",
       "      <td>13</td>\n",
       "      <td>0.865435</td>\n",
       "      <td>0.869642</td>\n",
       "      <td>0.866784</td>\n",
       "      <td>0.866564</td>\n",
       "      <td>0.867443</td>\n",
       "      <td>0.867174</td>\n",
       "      <td>0.001393</td>\n",
       "    </tr>\n",
       "    <tr>\n",
       "      <th>2</th>\n",
       "      <td>0.031903</td>\n",
       "      <td>0.008133</td>\n",
       "      <td>0.001084</td>\n",
       "      <td>0.000542</td>\n",
       "      <td>0.01</td>\n",
       "      <td>l1</td>\n",
       "      <td>{'C': 0.01, 'penalty': 'l1'}</td>\n",
       "      <td>0.905097</td>\n",
       "      <td>0.890941</td>\n",
       "      <td>0.897098</td>\n",
       "      <td>...</td>\n",
       "      <td>0.897994</td>\n",
       "      <td>0.004511</td>\n",
       "      <td>12</td>\n",
       "      <td>0.897537</td>\n",
       "      <td>0.899978</td>\n",
       "      <td>0.902616</td>\n",
       "      <td>0.896900</td>\n",
       "      <td>0.898879</td>\n",
       "      <td>0.899182</td>\n",
       "      <td>0.002021</td>\n",
       "    </tr>\n",
       "    <tr>\n",
       "      <th>3</th>\n",
       "      <td>0.012245</td>\n",
       "      <td>0.001805</td>\n",
       "      <td>0.000956</td>\n",
       "      <td>0.000229</td>\n",
       "      <td>0.01</td>\n",
       "      <td>l2</td>\n",
       "      <td>{'C': 0.01, 'penalty': 'l2'}</td>\n",
       "      <td>0.908612</td>\n",
       "      <td>0.905893</td>\n",
       "      <td>0.906772</td>\n",
       "      <td>...</td>\n",
       "      <td>0.907140</td>\n",
       "      <td>0.002653</td>\n",
       "      <td>11</td>\n",
       "      <td>0.909191</td>\n",
       "      <td>0.907892</td>\n",
       "      <td>0.914047</td>\n",
       "      <td>0.907013</td>\n",
       "      <td>0.908332</td>\n",
       "      <td>0.909295</td>\n",
       "      <td>0.002478</td>\n",
       "    </tr>\n",
       "    <tr>\n",
       "      <th>4</th>\n",
       "      <td>0.097170</td>\n",
       "      <td>0.013076</td>\n",
       "      <td>0.001280</td>\n",
       "      <td>0.000689</td>\n",
       "      <td>0.1</td>\n",
       "      <td>l1</td>\n",
       "      <td>{'C': 0.1, 'penalty': 'l1'}</td>\n",
       "      <td>0.953427</td>\n",
       "      <td>0.941953</td>\n",
       "      <td>0.944591</td>\n",
       "      <td>...</td>\n",
       "      <td>0.945127</td>\n",
       "      <td>0.004238</td>\n",
       "      <td>9</td>\n",
       "      <td>0.943931</td>\n",
       "      <td>0.945043</td>\n",
       "      <td>0.946362</td>\n",
       "      <td>0.944823</td>\n",
       "      <td>0.945043</td>\n",
       "      <td>0.945040</td>\n",
       "      <td>0.000778</td>\n",
       "    </tr>\n",
       "    <tr>\n",
       "      <th>5</th>\n",
       "      <td>0.019506</td>\n",
       "      <td>0.006727</td>\n",
       "      <td>0.000727</td>\n",
       "      <td>0.000019</td>\n",
       "      <td>0.1</td>\n",
       "      <td>l2</td>\n",
       "      <td>{'C': 0.1, 'penalty': 'l2'}</td>\n",
       "      <td>0.942882</td>\n",
       "      <td>0.933157</td>\n",
       "      <td>0.934916</td>\n",
       "      <td>...</td>\n",
       "      <td>0.934223</td>\n",
       "      <td>0.004784</td>\n",
       "      <td>10</td>\n",
       "      <td>0.932718</td>\n",
       "      <td>0.935151</td>\n",
       "      <td>0.937569</td>\n",
       "      <td>0.934491</td>\n",
       "      <td>0.934711</td>\n",
       "      <td>0.934928</td>\n",
       "      <td>0.001559</td>\n",
       "    </tr>\n",
       "    <tr>\n",
       "      <th>6</th>\n",
       "      <td>2.395393</td>\n",
       "      <td>0.507142</td>\n",
       "      <td>0.000997</td>\n",
       "      <td>0.000503</td>\n",
       "      <td>1.0</td>\n",
       "      <td>l1</td>\n",
       "      <td>{'C': 1.0, 'penalty': 'l1'}</td>\n",
       "      <td>0.966608</td>\n",
       "      <td>0.948989</td>\n",
       "      <td>0.948989</td>\n",
       "      <td>...</td>\n",
       "      <td>0.951809</td>\n",
       "      <td>0.007441</td>\n",
       "      <td>6</td>\n",
       "      <td>0.962401</td>\n",
       "      <td>0.954276</td>\n",
       "      <td>0.955814</td>\n",
       "      <td>0.948780</td>\n",
       "      <td>0.953177</td>\n",
       "      <td>0.954890</td>\n",
       "      <td>0.004425</td>\n",
       "    </tr>\n",
       "    <tr>\n",
       "      <th>7</th>\n",
       "      <td>0.028182</td>\n",
       "      <td>0.006852</td>\n",
       "      <td>0.001229</td>\n",
       "      <td>0.000654</td>\n",
       "      <td>1.0</td>\n",
       "      <td>l2</td>\n",
       "      <td>{'C': 1.0, 'penalty': 'l2'}</td>\n",
       "      <td>0.958699</td>\n",
       "      <td>0.944591</td>\n",
       "      <td>0.947230</td>\n",
       "      <td>...</td>\n",
       "      <td>0.947061</td>\n",
       "      <td>0.006243</td>\n",
       "      <td>8</td>\n",
       "      <td>0.950748</td>\n",
       "      <td>0.950319</td>\n",
       "      <td>0.949879</td>\n",
       "      <td>0.946801</td>\n",
       "      <td>0.947681</td>\n",
       "      <td>0.949086</td>\n",
       "      <td>0.001556</td>\n",
       "    </tr>\n",
       "    <tr>\n",
       "      <th>8</th>\n",
       "      <td>3.422672</td>\n",
       "      <td>0.735428</td>\n",
       "      <td>0.001322</td>\n",
       "      <td>0.000724</td>\n",
       "      <td>10.0</td>\n",
       "      <td>l1</td>\n",
       "      <td>{'C': 10.0, 'penalty': 'l1'}</td>\n",
       "      <td>0.978032</td>\n",
       "      <td>0.954266</td>\n",
       "      <td>0.952507</td>\n",
       "      <td>...</td>\n",
       "      <td>0.957436</td>\n",
       "      <td>0.010393</td>\n",
       "      <td>4</td>\n",
       "      <td>0.972955</td>\n",
       "      <td>0.959552</td>\n",
       "      <td>0.960431</td>\n",
       "      <td>0.952077</td>\n",
       "      <td>0.958013</td>\n",
       "      <td>0.960606</td>\n",
       "      <td>0.006828</td>\n",
       "    </tr>\n",
       "    <tr>\n",
       "      <th>9</th>\n",
       "      <td>0.047334</td>\n",
       "      <td>0.009503</td>\n",
       "      <td>0.001461</td>\n",
       "      <td>0.000987</td>\n",
       "      <td>10.0</td>\n",
       "      <td>l2</td>\n",
       "      <td>{'C': 10.0, 'penalty': 'l2'}</td>\n",
       "      <td>0.966608</td>\n",
       "      <td>0.946350</td>\n",
       "      <td>0.948989</td>\n",
       "      <td>...</td>\n",
       "      <td>0.950402</td>\n",
       "      <td>0.008236</td>\n",
       "      <td>7</td>\n",
       "      <td>0.959543</td>\n",
       "      <td>0.952737</td>\n",
       "      <td>0.954056</td>\n",
       "      <td>0.948340</td>\n",
       "      <td>0.948780</td>\n",
       "      <td>0.952691</td>\n",
       "      <td>0.004075</td>\n",
       "    </tr>\n",
       "    <tr>\n",
       "      <th>10</th>\n",
       "      <td>3.359034</td>\n",
       "      <td>0.730331</td>\n",
       "      <td>0.000972</td>\n",
       "      <td>0.000541</td>\n",
       "      <td>100.0</td>\n",
       "      <td>l1</td>\n",
       "      <td>{'C': 100.0, 'penalty': 'l1'}</td>\n",
       "      <td>0.977153</td>\n",
       "      <td>0.955145</td>\n",
       "      <td>0.953386</td>\n",
       "      <td>...</td>\n",
       "      <td>0.958139</td>\n",
       "      <td>0.009620</td>\n",
       "      <td>3</td>\n",
       "      <td>0.972296</td>\n",
       "      <td>0.961090</td>\n",
       "      <td>0.962189</td>\n",
       "      <td>0.953836</td>\n",
       "      <td>0.959332</td>\n",
       "      <td>0.961749</td>\n",
       "      <td>0.006005</td>\n",
       "    </tr>\n",
       "    <tr>\n",
       "      <th>11</th>\n",
       "      <td>0.067232</td>\n",
       "      <td>0.014210</td>\n",
       "      <td>0.000727</td>\n",
       "      <td>0.000035</td>\n",
       "      <td>100.0</td>\n",
       "      <td>l2</td>\n",
       "      <td>{'C': 100.0, 'penalty': 'l2'}</td>\n",
       "      <td>0.978032</td>\n",
       "      <td>0.953386</td>\n",
       "      <td>0.952507</td>\n",
       "      <td>...</td>\n",
       "      <td>0.956908</td>\n",
       "      <td>0.010808</td>\n",
       "      <td>5</td>\n",
       "      <td>0.972515</td>\n",
       "      <td>0.958672</td>\n",
       "      <td>0.960431</td>\n",
       "      <td>0.953177</td>\n",
       "      <td>0.957353</td>\n",
       "      <td>0.960430</td>\n",
       "      <td>0.006500</td>\n",
       "    </tr>\n",
       "    <tr>\n",
       "      <th>12</th>\n",
       "      <td>3.656036</td>\n",
       "      <td>0.400849</td>\n",
       "      <td>0.000737</td>\n",
       "      <td>0.000046</td>\n",
       "      <td>1000.0</td>\n",
       "      <td>l1</td>\n",
       "      <td>{'C': 1000.0, 'penalty': 'l1'}</td>\n",
       "      <td>0.978910</td>\n",
       "      <td>0.955145</td>\n",
       "      <td>0.953386</td>\n",
       "      <td>...</td>\n",
       "      <td>0.958491</td>\n",
       "      <td>0.010315</td>\n",
       "      <td>2</td>\n",
       "      <td>0.973835</td>\n",
       "      <td>0.961090</td>\n",
       "      <td>0.962189</td>\n",
       "      <td>0.953836</td>\n",
       "      <td>0.959552</td>\n",
       "      <td>0.962100</td>\n",
       "      <td>0.006535</td>\n",
       "    </tr>\n",
       "    <tr>\n",
       "      <th>13</th>\n",
       "      <td>0.072500</td>\n",
       "      <td>0.009122</td>\n",
       "      <td>0.000697</td>\n",
       "      <td>0.000033</td>\n",
       "      <td>1000.0</td>\n",
       "      <td>l2</td>\n",
       "      <td>{'C': 1000.0, 'penalty': 'l2'}</td>\n",
       "      <td>0.978910</td>\n",
       "      <td>0.955145</td>\n",
       "      <td>0.954266</td>\n",
       "      <td>...</td>\n",
       "      <td>0.959370</td>\n",
       "      <td>0.009776</td>\n",
       "      <td>1</td>\n",
       "      <td>0.974055</td>\n",
       "      <td>0.960871</td>\n",
       "      <td>0.962629</td>\n",
       "      <td>0.953836</td>\n",
       "      <td>0.959771</td>\n",
       "      <td>0.962232</td>\n",
       "      <td>0.006608</td>\n",
       "    </tr>\n",
       "  </tbody>\n",
       "</table>\n",
       "<p>14 rows × 22 columns</p>\n",
       "</div>"
      ],
      "text/plain": [
       "    mean_fit_time  std_fit_time  mean_score_time  std_score_time param_C  \\\n",
       "0        0.008126      0.001483         0.001803        0.001168   0.001   \n",
       "1        0.013461      0.004255         0.001749        0.001085   0.001   \n",
       "2        0.031903      0.008133         0.001084        0.000542    0.01   \n",
       "3        0.012245      0.001805         0.000956        0.000229    0.01   \n",
       "4        0.097170      0.013076         0.001280        0.000689     0.1   \n",
       "5        0.019506      0.006727         0.000727        0.000019     0.1   \n",
       "6        2.395393      0.507142         0.000997        0.000503     1.0   \n",
       "7        0.028182      0.006852         0.001229        0.000654     1.0   \n",
       "8        3.422672      0.735428         0.001322        0.000724    10.0   \n",
       "9        0.047334      0.009503         0.001461        0.000987    10.0   \n",
       "10       3.359034      0.730331         0.000972        0.000541   100.0   \n",
       "11       0.067232      0.014210         0.000727        0.000035   100.0   \n",
       "12       3.656036      0.400849         0.000737        0.000046  1000.0   \n",
       "13       0.072500      0.009122         0.000697        0.000033  1000.0   \n",
       "\n",
       "   param_penalty                          params  split0_test_score  \\\n",
       "0             l1   {'C': 0.001, 'penalty': 'l1'}           0.772408   \n",
       "1             l2   {'C': 0.001, 'penalty': 'l2'}           0.870826   \n",
       "2             l1    {'C': 0.01, 'penalty': 'l1'}           0.905097   \n",
       "3             l2    {'C': 0.01, 'penalty': 'l2'}           0.908612   \n",
       "4             l1     {'C': 0.1, 'penalty': 'l1'}           0.953427   \n",
       "5             l2     {'C': 0.1, 'penalty': 'l2'}           0.942882   \n",
       "6             l1     {'C': 1.0, 'penalty': 'l1'}           0.966608   \n",
       "7             l2     {'C': 1.0, 'penalty': 'l2'}           0.958699   \n",
       "8             l1    {'C': 10.0, 'penalty': 'l1'}           0.978032   \n",
       "9             l2    {'C': 10.0, 'penalty': 'l2'}           0.966608   \n",
       "10            l1   {'C': 100.0, 'penalty': 'l1'}           0.977153   \n",
       "11            l2   {'C': 100.0, 'penalty': 'l2'}           0.978032   \n",
       "12            l1  {'C': 1000.0, 'penalty': 'l1'}           0.978910   \n",
       "13            l2  {'C': 1000.0, 'penalty': 'l2'}           0.978910   \n",
       "\n",
       "    split1_test_score  split2_test_score  ...  mean_test_score  \\\n",
       "0            0.764292           0.788039  ...         0.771368   \n",
       "1            0.857520           0.872471  ...         0.866689   \n",
       "2            0.890941           0.897098  ...         0.897994   \n",
       "3            0.905893           0.906772  ...         0.907140   \n",
       "4            0.941953           0.944591  ...         0.945127   \n",
       "5            0.933157           0.934916  ...         0.934223   \n",
       "6            0.948989           0.948989  ...         0.951809   \n",
       "7            0.944591           0.947230  ...         0.947061   \n",
       "8            0.954266           0.952507  ...         0.957436   \n",
       "9            0.946350           0.948989  ...         0.950402   \n",
       "10           0.955145           0.953386  ...         0.958139   \n",
       "11           0.953386           0.952507  ...         0.956908   \n",
       "12           0.955145           0.953386  ...         0.958491   \n",
       "13           0.955145           0.954266  ...         0.959370   \n",
       "\n",
       "    std_test_score  rank_test_score  split0_train_score  split1_train_score  \\\n",
       "0         0.008799               14            0.771108            0.773137   \n",
       "1         0.005224               13            0.865435            0.869642   \n",
       "2         0.004511               12            0.897537            0.899978   \n",
       "3         0.002653               11            0.909191            0.907892   \n",
       "4         0.004238                9            0.943931            0.945043   \n",
       "5         0.004784               10            0.932718            0.935151   \n",
       "6         0.007441                6            0.962401            0.954276   \n",
       "7         0.006243                8            0.950748            0.950319   \n",
       "8         0.010393                4            0.972955            0.959552   \n",
       "9         0.008236                7            0.959543            0.952737   \n",
       "10        0.009620                3            0.972296            0.961090   \n",
       "11        0.010808                5            0.972515            0.958672   \n",
       "12        0.010315                2            0.973835            0.961090   \n",
       "13        0.009776                1            0.974055            0.960871   \n",
       "\n",
       "    split2_train_score  split3_train_score  split4_train_score  \\\n",
       "0             0.767202            0.772917            0.772477   \n",
       "1             0.866784            0.866564            0.867443   \n",
       "2             0.902616            0.896900            0.898879   \n",
       "3             0.914047            0.907013            0.908332   \n",
       "4             0.946362            0.944823            0.945043   \n",
       "5             0.937569            0.934491            0.934711   \n",
       "6             0.955814            0.948780            0.953177   \n",
       "7             0.949879            0.946801            0.947681   \n",
       "8             0.960431            0.952077            0.958013   \n",
       "9             0.954056            0.948340            0.948780   \n",
       "10            0.962189            0.953836            0.959332   \n",
       "11            0.960431            0.953177            0.957353   \n",
       "12            0.962189            0.953836            0.959552   \n",
       "13            0.962629            0.953836            0.959771   \n",
       "\n",
       "    mean_train_score  std_train_score  \n",
       "0           0.771368         0.002199  \n",
       "1           0.867174         0.001393  \n",
       "2           0.899182         0.002021  \n",
       "3           0.909295         0.002478  \n",
       "4           0.945040         0.000778  \n",
       "5           0.934928         0.001559  \n",
       "6           0.954890         0.004425  \n",
       "7           0.949086         0.001556  \n",
       "8           0.960606         0.006828  \n",
       "9           0.952691         0.004075  \n",
       "10          0.961749         0.006005  \n",
       "11          0.960430         0.006500  \n",
       "12          0.962100         0.006535  \n",
       "13          0.962232         0.006608  \n",
       "\n",
       "[14 rows x 22 columns]"
      ]
     },
     "execution_count": 41,
     "metadata": {},
     "output_type": "execute_result"
    }
   ],
   "source": [
    "res = pd.DataFrame(res)\n",
    "res"
   ]
  },
  {
   "cell_type": "code",
   "execution_count": 42,
   "id": "adc84b9e",
   "metadata": {},
   "outputs": [
    {
     "data": {
      "text/plain": [
       "['mean_fit_time',\n",
       " 'std_fit_time',\n",
       " 'mean_score_time',\n",
       " 'std_score_time',\n",
       " 'param_C',\n",
       " 'param_penalty',\n",
       " 'params',\n",
       " 'mean_test_score',\n",
       " 'std_test_score',\n",
       " 'rank_test_score',\n",
       " 'mean_train_score',\n",
       " 'std_train_score']"
      ]
     },
     "execution_count": 42,
     "metadata": {},
     "output_type": "execute_result"
    }
   ],
   "source": [
    "cols = [i for i in res.columns if \"split\" not in i]\n",
    "cols"
   ]
  },
  {
   "cell_type": "code",
   "execution_count": 43,
   "id": "b6efadae",
   "metadata": {},
   "outputs": [
    {
     "data": {
      "text/html": [
       "<div>\n",
       "<style scoped>\n",
       "    .dataframe tbody tr th:only-of-type {\n",
       "        vertical-align: middle;\n",
       "    }\n",
       "\n",
       "    .dataframe tbody tr th {\n",
       "        vertical-align: top;\n",
       "    }\n",
       "\n",
       "    .dataframe thead th {\n",
       "        text-align: right;\n",
       "    }\n",
       "</style>\n",
       "<table border=\"1\" class=\"dataframe\">\n",
       "  <thead>\n",
       "    <tr style=\"text-align: right;\">\n",
       "      <th></th>\n",
       "      <th>mean_fit_time</th>\n",
       "      <th>std_fit_time</th>\n",
       "      <th>mean_score_time</th>\n",
       "      <th>std_score_time</th>\n",
       "      <th>param_C</th>\n",
       "      <th>param_penalty</th>\n",
       "      <th>params</th>\n",
       "      <th>mean_test_score</th>\n",
       "      <th>std_test_score</th>\n",
       "      <th>rank_test_score</th>\n",
       "      <th>mean_train_score</th>\n",
       "      <th>std_train_score</th>\n",
       "    </tr>\n",
       "  </thead>\n",
       "  <tbody>\n",
       "    <tr>\n",
       "      <th>13</th>\n",
       "      <td>0.072500</td>\n",
       "      <td>0.009122</td>\n",
       "      <td>0.000697</td>\n",
       "      <td>0.000033</td>\n",
       "      <td>1000.0</td>\n",
       "      <td>l2</td>\n",
       "      <td>{'C': 1000.0, 'penalty': 'l2'}</td>\n",
       "      <td>0.959370</td>\n",
       "      <td>0.009776</td>\n",
       "      <td>1</td>\n",
       "      <td>0.962232</td>\n",
       "      <td>0.006608</td>\n",
       "    </tr>\n",
       "    <tr>\n",
       "      <th>12</th>\n",
       "      <td>3.656036</td>\n",
       "      <td>0.400849</td>\n",
       "      <td>0.000737</td>\n",
       "      <td>0.000046</td>\n",
       "      <td>1000.0</td>\n",
       "      <td>l1</td>\n",
       "      <td>{'C': 1000.0, 'penalty': 'l1'}</td>\n",
       "      <td>0.958491</td>\n",
       "      <td>0.010315</td>\n",
       "      <td>2</td>\n",
       "      <td>0.962100</td>\n",
       "      <td>0.006535</td>\n",
       "    </tr>\n",
       "    <tr>\n",
       "      <th>10</th>\n",
       "      <td>3.359034</td>\n",
       "      <td>0.730331</td>\n",
       "      <td>0.000972</td>\n",
       "      <td>0.000541</td>\n",
       "      <td>100.0</td>\n",
       "      <td>l1</td>\n",
       "      <td>{'C': 100.0, 'penalty': 'l1'}</td>\n",
       "      <td>0.958139</td>\n",
       "      <td>0.009620</td>\n",
       "      <td>3</td>\n",
       "      <td>0.961749</td>\n",
       "      <td>0.006005</td>\n",
       "    </tr>\n",
       "    <tr>\n",
       "      <th>8</th>\n",
       "      <td>3.422672</td>\n",
       "      <td>0.735428</td>\n",
       "      <td>0.001322</td>\n",
       "      <td>0.000724</td>\n",
       "      <td>10.0</td>\n",
       "      <td>l1</td>\n",
       "      <td>{'C': 10.0, 'penalty': 'l1'}</td>\n",
       "      <td>0.957436</td>\n",
       "      <td>0.010393</td>\n",
       "      <td>4</td>\n",
       "      <td>0.960606</td>\n",
       "      <td>0.006828</td>\n",
       "    </tr>\n",
       "    <tr>\n",
       "      <th>11</th>\n",
       "      <td>0.067232</td>\n",
       "      <td>0.014210</td>\n",
       "      <td>0.000727</td>\n",
       "      <td>0.000035</td>\n",
       "      <td>100.0</td>\n",
       "      <td>l2</td>\n",
       "      <td>{'C': 100.0, 'penalty': 'l2'}</td>\n",
       "      <td>0.956908</td>\n",
       "      <td>0.010808</td>\n",
       "      <td>5</td>\n",
       "      <td>0.960430</td>\n",
       "      <td>0.006500</td>\n",
       "    </tr>\n",
       "    <tr>\n",
       "      <th>6</th>\n",
       "      <td>2.395393</td>\n",
       "      <td>0.507142</td>\n",
       "      <td>0.000997</td>\n",
       "      <td>0.000503</td>\n",
       "      <td>1.0</td>\n",
       "      <td>l1</td>\n",
       "      <td>{'C': 1.0, 'penalty': 'l1'}</td>\n",
       "      <td>0.951809</td>\n",
       "      <td>0.007441</td>\n",
       "      <td>6</td>\n",
       "      <td>0.954890</td>\n",
       "      <td>0.004425</td>\n",
       "    </tr>\n",
       "    <tr>\n",
       "      <th>9</th>\n",
       "      <td>0.047334</td>\n",
       "      <td>0.009503</td>\n",
       "      <td>0.001461</td>\n",
       "      <td>0.000987</td>\n",
       "      <td>10.0</td>\n",
       "      <td>l2</td>\n",
       "      <td>{'C': 10.0, 'penalty': 'l2'}</td>\n",
       "      <td>0.950402</td>\n",
       "      <td>0.008236</td>\n",
       "      <td>7</td>\n",
       "      <td>0.952691</td>\n",
       "      <td>0.004075</td>\n",
       "    </tr>\n",
       "    <tr>\n",
       "      <th>7</th>\n",
       "      <td>0.028182</td>\n",
       "      <td>0.006852</td>\n",
       "      <td>0.001229</td>\n",
       "      <td>0.000654</td>\n",
       "      <td>1.0</td>\n",
       "      <td>l2</td>\n",
       "      <td>{'C': 1.0, 'penalty': 'l2'}</td>\n",
       "      <td>0.947061</td>\n",
       "      <td>0.006243</td>\n",
       "      <td>8</td>\n",
       "      <td>0.949086</td>\n",
       "      <td>0.001556</td>\n",
       "    </tr>\n",
       "    <tr>\n",
       "      <th>4</th>\n",
       "      <td>0.097170</td>\n",
       "      <td>0.013076</td>\n",
       "      <td>0.001280</td>\n",
       "      <td>0.000689</td>\n",
       "      <td>0.1</td>\n",
       "      <td>l1</td>\n",
       "      <td>{'C': 0.1, 'penalty': 'l1'}</td>\n",
       "      <td>0.945127</td>\n",
       "      <td>0.004238</td>\n",
       "      <td>9</td>\n",
       "      <td>0.945040</td>\n",
       "      <td>0.000778</td>\n",
       "    </tr>\n",
       "    <tr>\n",
       "      <th>5</th>\n",
       "      <td>0.019506</td>\n",
       "      <td>0.006727</td>\n",
       "      <td>0.000727</td>\n",
       "      <td>0.000019</td>\n",
       "      <td>0.1</td>\n",
       "      <td>l2</td>\n",
       "      <td>{'C': 0.1, 'penalty': 'l2'}</td>\n",
       "      <td>0.934223</td>\n",
       "      <td>0.004784</td>\n",
       "      <td>10</td>\n",
       "      <td>0.934928</td>\n",
       "      <td>0.001559</td>\n",
       "    </tr>\n",
       "    <tr>\n",
       "      <th>3</th>\n",
       "      <td>0.012245</td>\n",
       "      <td>0.001805</td>\n",
       "      <td>0.000956</td>\n",
       "      <td>0.000229</td>\n",
       "      <td>0.01</td>\n",
       "      <td>l2</td>\n",
       "      <td>{'C': 0.01, 'penalty': 'l2'}</td>\n",
       "      <td>0.907140</td>\n",
       "      <td>0.002653</td>\n",
       "      <td>11</td>\n",
       "      <td>0.909295</td>\n",
       "      <td>0.002478</td>\n",
       "    </tr>\n",
       "    <tr>\n",
       "      <th>2</th>\n",
       "      <td>0.031903</td>\n",
       "      <td>0.008133</td>\n",
       "      <td>0.001084</td>\n",
       "      <td>0.000542</td>\n",
       "      <td>0.01</td>\n",
       "      <td>l1</td>\n",
       "      <td>{'C': 0.01, 'penalty': 'l1'}</td>\n",
       "      <td>0.897994</td>\n",
       "      <td>0.004511</td>\n",
       "      <td>12</td>\n",
       "      <td>0.899182</td>\n",
       "      <td>0.002021</td>\n",
       "    </tr>\n",
       "    <tr>\n",
       "      <th>1</th>\n",
       "      <td>0.013461</td>\n",
       "      <td>0.004255</td>\n",
       "      <td>0.001749</td>\n",
       "      <td>0.001085</td>\n",
       "      <td>0.001</td>\n",
       "      <td>l2</td>\n",
       "      <td>{'C': 0.001, 'penalty': 'l2'}</td>\n",
       "      <td>0.866689</td>\n",
       "      <td>0.005224</td>\n",
       "      <td>13</td>\n",
       "      <td>0.867174</td>\n",
       "      <td>0.001393</td>\n",
       "    </tr>\n",
       "    <tr>\n",
       "      <th>0</th>\n",
       "      <td>0.008126</td>\n",
       "      <td>0.001483</td>\n",
       "      <td>0.001803</td>\n",
       "      <td>0.001168</td>\n",
       "      <td>0.001</td>\n",
       "      <td>l1</td>\n",
       "      <td>{'C': 0.001, 'penalty': 'l1'}</td>\n",
       "      <td>0.771368</td>\n",
       "      <td>0.008799</td>\n",
       "      <td>14</td>\n",
       "      <td>0.771368</td>\n",
       "      <td>0.002199</td>\n",
       "    </tr>\n",
       "  </tbody>\n",
       "</table>\n",
       "</div>"
      ],
      "text/plain": [
       "    mean_fit_time  std_fit_time  mean_score_time  std_score_time param_C  \\\n",
       "13       0.072500      0.009122         0.000697        0.000033  1000.0   \n",
       "12       3.656036      0.400849         0.000737        0.000046  1000.0   \n",
       "10       3.359034      0.730331         0.000972        0.000541   100.0   \n",
       "8        3.422672      0.735428         0.001322        0.000724    10.0   \n",
       "11       0.067232      0.014210         0.000727        0.000035   100.0   \n",
       "6        2.395393      0.507142         0.000997        0.000503     1.0   \n",
       "9        0.047334      0.009503         0.001461        0.000987    10.0   \n",
       "7        0.028182      0.006852         0.001229        0.000654     1.0   \n",
       "4        0.097170      0.013076         0.001280        0.000689     0.1   \n",
       "5        0.019506      0.006727         0.000727        0.000019     0.1   \n",
       "3        0.012245      0.001805         0.000956        0.000229    0.01   \n",
       "2        0.031903      0.008133         0.001084        0.000542    0.01   \n",
       "1        0.013461      0.004255         0.001749        0.001085   0.001   \n",
       "0        0.008126      0.001483         0.001803        0.001168   0.001   \n",
       "\n",
       "   param_penalty                          params  mean_test_score  \\\n",
       "13            l2  {'C': 1000.0, 'penalty': 'l2'}         0.959370   \n",
       "12            l1  {'C': 1000.0, 'penalty': 'l1'}         0.958491   \n",
       "10            l1   {'C': 100.0, 'penalty': 'l1'}         0.958139   \n",
       "8             l1    {'C': 10.0, 'penalty': 'l1'}         0.957436   \n",
       "11            l2   {'C': 100.0, 'penalty': 'l2'}         0.956908   \n",
       "6             l1     {'C': 1.0, 'penalty': 'l1'}         0.951809   \n",
       "9             l2    {'C': 10.0, 'penalty': 'l2'}         0.950402   \n",
       "7             l2     {'C': 1.0, 'penalty': 'l2'}         0.947061   \n",
       "4             l1     {'C': 0.1, 'penalty': 'l1'}         0.945127   \n",
       "5             l2     {'C': 0.1, 'penalty': 'l2'}         0.934223   \n",
       "3             l2    {'C': 0.01, 'penalty': 'l2'}         0.907140   \n",
       "2             l1    {'C': 0.01, 'penalty': 'l1'}         0.897994   \n",
       "1             l2   {'C': 0.001, 'penalty': 'l2'}         0.866689   \n",
       "0             l1   {'C': 0.001, 'penalty': 'l1'}         0.771368   \n",
       "\n",
       "    std_test_score  rank_test_score  mean_train_score  std_train_score  \n",
       "13        0.009776                1          0.962232         0.006608  \n",
       "12        0.010315                2          0.962100         0.006535  \n",
       "10        0.009620                3          0.961749         0.006005  \n",
       "8         0.010393                4          0.960606         0.006828  \n",
       "11        0.010808                5          0.960430         0.006500  \n",
       "6         0.007441                6          0.954890         0.004425  \n",
       "9         0.008236                7          0.952691         0.004075  \n",
       "7         0.006243                8          0.949086         0.001556  \n",
       "4         0.004238                9          0.945040         0.000778  \n",
       "5         0.004784               10          0.934928         0.001559  \n",
       "3         0.002653               11          0.909295         0.002478  \n",
       "2         0.004511               12          0.899182         0.002021  \n",
       "1         0.005224               13          0.867174         0.001393  \n",
       "0         0.008799               14          0.771368         0.002199  "
      ]
     },
     "execution_count": 43,
     "metadata": {},
     "output_type": "execute_result"
    }
   ],
   "source": [
    "res = res[cols]\n",
    "res = res.sort_values(\"rank_test_score\")\n",
    "res"
   ]
  },
  {
   "cell_type": "code",
   "execution_count": 44,
   "id": "1bd6e5ec",
   "metadata": {},
   "outputs": [
    {
     "data": {
      "text/html": [
       "<style>#sk-container-id-4 {color: black;background-color: white;}#sk-container-id-4 pre{padding: 0;}#sk-container-id-4 div.sk-toggleable {background-color: white;}#sk-container-id-4 label.sk-toggleable__label {cursor: pointer;display: block;width: 100%;margin-bottom: 0;padding: 0.3em;box-sizing: border-box;text-align: center;}#sk-container-id-4 label.sk-toggleable__label-arrow:before {content: \"▸\";float: left;margin-right: 0.25em;color: #696969;}#sk-container-id-4 label.sk-toggleable__label-arrow:hover:before {color: black;}#sk-container-id-4 div.sk-estimator:hover label.sk-toggleable__label-arrow:before {color: black;}#sk-container-id-4 div.sk-toggleable__content {max-height: 0;max-width: 0;overflow: hidden;text-align: left;background-color: #f0f8ff;}#sk-container-id-4 div.sk-toggleable__content pre {margin: 0.2em;color: black;border-radius: 0.25em;background-color: #f0f8ff;}#sk-container-id-4 input.sk-toggleable__control:checked~div.sk-toggleable__content {max-height: 200px;max-width: 100%;overflow: auto;}#sk-container-id-4 input.sk-toggleable__control:checked~label.sk-toggleable__label-arrow:before {content: \"▾\";}#sk-container-id-4 div.sk-estimator input.sk-toggleable__control:checked~label.sk-toggleable__label {background-color: #d4ebff;}#sk-container-id-4 div.sk-label input.sk-toggleable__control:checked~label.sk-toggleable__label {background-color: #d4ebff;}#sk-container-id-4 input.sk-hidden--visually {border: 0;clip: rect(1px 1px 1px 1px);clip: rect(1px, 1px, 1px, 1px);height: 1px;margin: -1px;overflow: hidden;padding: 0;position: absolute;width: 1px;}#sk-container-id-4 div.sk-estimator {font-family: monospace;background-color: #f0f8ff;border: 1px dotted black;border-radius: 0.25em;box-sizing: border-box;margin-bottom: 0.5em;}#sk-container-id-4 div.sk-estimator:hover {background-color: #d4ebff;}#sk-container-id-4 div.sk-parallel-item::after {content: \"\";width: 100%;border-bottom: 1px solid gray;flex-grow: 1;}#sk-container-id-4 div.sk-label:hover label.sk-toggleable__label {background-color: #d4ebff;}#sk-container-id-4 div.sk-serial::before {content: \"\";position: absolute;border-left: 1px solid gray;box-sizing: border-box;top: 0;bottom: 0;left: 50%;z-index: 0;}#sk-container-id-4 div.sk-serial {display: flex;flex-direction: column;align-items: center;background-color: white;padding-right: 0.2em;padding-left: 0.2em;position: relative;}#sk-container-id-4 div.sk-item {position: relative;z-index: 1;}#sk-container-id-4 div.sk-parallel {display: flex;align-items: stretch;justify-content: center;background-color: white;position: relative;}#sk-container-id-4 div.sk-item::before, #sk-container-id-4 div.sk-parallel-item::before {content: \"\";position: absolute;border-left: 1px solid gray;box-sizing: border-box;top: 0;bottom: 0;left: 50%;z-index: -1;}#sk-container-id-4 div.sk-parallel-item {display: flex;flex-direction: column;z-index: 1;position: relative;background-color: white;}#sk-container-id-4 div.sk-parallel-item:first-child::after {align-self: flex-end;width: 50%;}#sk-container-id-4 div.sk-parallel-item:last-child::after {align-self: flex-start;width: 50%;}#sk-container-id-4 div.sk-parallel-item:only-child::after {width: 0;}#sk-container-id-4 div.sk-dashed-wrapped {border: 1px dashed gray;margin: 0 0.4em 0.5em 0.4em;box-sizing: border-box;padding-bottom: 0.4em;background-color: white;}#sk-container-id-4 div.sk-label label {font-family: monospace;font-weight: bold;display: inline-block;line-height: 1.2em;}#sk-container-id-4 div.sk-label-container {text-align: center;}#sk-container-id-4 div.sk-container {/* jupyter's `normalize.less` sets `[hidden] { display: none; }` but bootstrap.min.css set `[hidden] { display: none !important; }` so we also need the `!important` here to be able to override the default hidden behavior on the sphinx rendered scikit-learn.org. See: https://github.com/scikit-learn/scikit-learn/issues/21755 */display: inline-block !important;position: relative;}#sk-container-id-4 div.sk-text-repr-fallback {display: none;}</style><div id=\"sk-container-id-4\" class=\"sk-top-container\"><div class=\"sk-text-repr-fallback\"><pre>LogisticRegression(C=1000, solver=&#x27;liblinear&#x27;)</pre><b>In a Jupyter environment, please rerun this cell to show the HTML representation or trust the notebook. <br />On GitHub, the HTML representation is unable to render, please try loading this page with nbviewer.org.</b></div><div class=\"sk-container\" hidden><div class=\"sk-item\"><div class=\"sk-estimator sk-toggleable\"><input class=\"sk-toggleable__control sk-hidden--visually\" id=\"sk-estimator-id-6\" type=\"checkbox\" checked><label for=\"sk-estimator-id-6\" class=\"sk-toggleable__label sk-toggleable__label-arrow\">LogisticRegression</label><div class=\"sk-toggleable__content\"><pre>LogisticRegression(C=1000, solver=&#x27;liblinear&#x27;)</pre></div></div></div></div></div>"
      ],
      "text/plain": [
       "LogisticRegression(C=1000, solver='liblinear')"
      ]
     },
     "execution_count": 44,
     "metadata": {},
     "output_type": "execute_result"
    }
   ],
   "source": [
    "estimator = LogisticRegression(solver = 'liblinear', penalty=\"l2\", C=1000)\n",
    "estimator.fit(X_train, y_train)"
   ]
  },
  {
   "cell_type": "code",
   "execution_count": 45,
   "id": "4d098de9",
   "metadata": {},
   "outputs": [
    {
     "name": "stdout",
     "output_type": "stream",
     "text": [
      "score train : 0.9618 score test : 0.9623 \n"
     ]
    }
   ],
   "source": [
    "tr_score = estimator.score(X_train, y_train).round(4)\n",
    "te_score = estimator.score(X_test, y_test).round(4)\n",
    "\n",
    "print(f\"score train : {tr_score} score test : {te_score} \")"
   ]
  },
  {
   "cell_type": "code",
   "execution_count": 46,
   "id": "f967ee6d",
   "metadata": {},
   "outputs": [
    {
     "data": {
      "text/plain": [
       "0.4"
      ]
     },
     "execution_count": 46,
     "metadata": {},
     "output_type": "execute_result"
    }
   ],
   "source": [
    "2/5"
   ]
  },
  {
   "cell_type": "code",
   "execution_count": 47,
   "id": "650e2a75",
   "metadata": {},
   "outputs": [
    {
     "name": "stdout",
     "output_type": "stream",
     "text": [
      "0.95\n"
     ]
    }
   ],
   "source": [
    "false_positive_rate, true_positive_rate, thresholds = roc_curve(y_test, y_pred)\n",
    "roc_auc = auc(false_positive_rate, true_positive_rate).round(2)\n",
    "print(roc_auc)"
   ]
  },
  {
   "cell_type": "code",
   "execution_count": 48,
   "id": "0e89d714",
   "metadata": {},
   "outputs": [
    {
     "data": {
      "image/png": "[encoded data removed]",
      "text/plain": [
       "<Figure size 720x720 with 1 Axes>"
      ]
     },
     "metadata": {
      "needs_background": "light"
     },
     "output_type": "display_data"
    }
   ],
   "source": [
    "plt.figure(figsize=(10,10))\n",
    "plt.title('Receiver Operating Characteristic')\n",
    "plt.plot(false_positive_rate,true_positive_rate, color='red',label = 'AUC = %0.2f' % roc_auc)\n",
    "plt.legend(loc = 'lower right')\n",
    "plt.plot([0, 1], [0, 1],linestyle='--')\n",
    "plt.axis('tight')\n",
    "plt.ylabel('True Positive Rate')\n",
    "plt.xlabel('False Positive Rate')\n",
    "plt.show()"
   ]
  },
  {
   "cell_type": "code",
   "execution_count": 49,
   "id": "2607d0ff",
   "metadata": {
    "scrolled": true
   },
   "outputs": [
    {
     "data": {
      "text/html": [
       "<div>\n",
       "<style scoped>\n",
       "    .dataframe tbody tr th:only-of-type {\n",
       "        vertical-align: middle;\n",
       "    }\n",
       "\n",
       "    .dataframe tbody tr th {\n",
       "        vertical-align: top;\n",
       "    }\n",
       "\n",
       "    .dataframe thead th {\n",
       "        text-align: right;\n",
       "    }\n",
       "</style>\n",
       "<table border=\"1\" class=\"dataframe\">\n",
       "  <thead>\n",
       "    <tr style=\"text-align: right;\">\n",
       "      <th></th>\n",
       "      <th>pred_0</th>\n",
       "      <th>pred_1</th>\n",
       "    </tr>\n",
       "  </thead>\n",
       "  <tbody>\n",
       "    <tr>\n",
       "      <th>test_0</th>\n",
       "      <td>1200</td>\n",
       "      <td>57</td>\n",
       "    </tr>\n",
       "    <tr>\n",
       "      <th>test_1</th>\n",
       "      <td>65</td>\n",
       "      <td>1116</td>\n",
       "    </tr>\n",
       "  </tbody>\n",
       "</table>\n",
       "</div>"
      ],
      "text/plain": [
       "        pred_0  pred_1\n",
       "test_0    1200      57\n",
       "test_1      65    1116"
      ]
     },
     "execution_count": 49,
     "metadata": {},
     "output_type": "execute_result"
    }
   ],
   "source": [
    "mat = confusion_matrix(y_test, y_pred)\n",
    "mat = pd.DataFrame(mat)\n",
    "mat.columns = [f\"pred_{i}\" for i in mat.columns]\n",
    "mat.index = [f\"test_{i}\" for i in mat.index]\n",
    "mat"
   ]
  },
  {
   "cell_type": "markdown",
   "id": "80b4a4f8",
   "metadata": {},
   "source": [
    "## 4.4 SVM"
   ]
  },
  {
   "cell_type": "markdown",
   "id": "e29ec5b1",
   "metadata": {},
   "source": [
    "### 4.4.1 with Gridsearch"
   ]
  },
  {
   "cell_type": "code",
   "execution_count": 50,
   "id": "7b15d4c9",
   "metadata": {},
   "outputs": [],
   "source": [
    "estimator = LinearSVC()\n",
    "\n",
    "params = { 'C': np.logspace(-3, 3, 7) }"
   ]
  },
  {
   "cell_type": "code",
   "execution_count": 51,
   "id": "df2764d6",
   "metadata": {},
   "outputs": [
    {
     "name": "stdout",
     "output_type": "stream",
     "text": [
      "Fitting 5 folds for each of 7 candidates, totalling 35 fits\n"
     ]
    },
    {
     "name": "stderr",
     "output_type": "stream",
     "text": [
      "/Users/alexandre.gazagnes/Desktop/content/cours/fr/entrainez-un-modele-lineaire/partie_2/env/lib/python3.10/site-packages/sklearn/svm/_base.py:1225: ConvergenceWarning: Liblinear failed to converge, increase the number of iterations.\n",
      "  warnings.warn(\n",
      "/Users/alexandre.gazagnes/Desktop/content/cours/fr/entrainez-un-modele-lineaire/partie_2/env/lib/python3.10/site-packages/sklearn/svm/_base.py:1225: ConvergenceWarning: Liblinear failed to converge, increase the number of iterations.\n",
      "  warnings.warn(\n",
      "/Users/alexandre.gazagnes/Desktop/content/cours/fr/entrainez-un-modele-lineaire/partie_2/env/lib/python3.10/site-packages/sklearn/svm/_base.py:1225: ConvergenceWarning: Liblinear failed to converge, increase the number of iterations.\n",
      "  warnings.warn(\n",
      "/Users/alexandre.gazagnes/Desktop/content/cours/fr/entrainez-un-modele-lineaire/partie_2/env/lib/python3.10/site-packages/sklearn/svm/_base.py:1225: ConvergenceWarning: Liblinear failed to converge, increase the number of iterations.\n",
      "  warnings.warn(\n",
      "/Users/alexandre.gazagnes/Desktop/content/cours/fr/entrainez-un-modele-lineaire/partie_2/env/lib/python3.10/site-packages/sklearn/svm/_base.py:1225: ConvergenceWarning: Liblinear failed to converge, increase the number of iterations.\n",
      "  warnings.warn(\n",
      "/Users/alexandre.gazagnes/Desktop/content/cours/fr/entrainez-un-modele-lineaire/partie_2/env/lib/python3.10/site-packages/sklearn/svm/_base.py:1225: ConvergenceWarning: Liblinear failed to converge, increase the number of iterations.\n",
      "  warnings.warn(\n",
      "/Users/alexandre.gazagnes/Desktop/content/cours/fr/entrainez-un-modele-lineaire/partie_2/env/lib/python3.10/site-packages/sklearn/svm/_base.py:1225: ConvergenceWarning: Liblinear failed to converge, increase the number of iterations.\n",
      "  warnings.warn(\n",
      "/Users/alexandre.gazagnes/Desktop/content/cours/fr/entrainez-un-modele-lineaire/partie_2/env/lib/python3.10/site-packages/sklearn/svm/_base.py:1225: ConvergenceWarning: Liblinear failed to converge, increase the number of iterations.\n",
      "  warnings.warn(\n",
      "/Users/alexandre.gazagnes/Desktop/content/cours/fr/entrainez-un-modele-lineaire/partie_2/env/lib/python3.10/site-packages/sklearn/svm/_base.py:1225: ConvergenceWarning: Liblinear failed to converge, increase the number of iterations.\n",
      "  warnings.warn(\n",
      "/Users/alexandre.gazagnes/Desktop/content/cours/fr/entrainez-un-modele-lineaire/partie_2/env/lib/python3.10/site-packages/sklearn/svm/_base.py:1225: ConvergenceWarning: Liblinear failed to converge, increase the number of iterations.\n",
      "  warnings.warn(\n",
      "/Users/alexandre.gazagnes/Desktop/content/cours/fr/entrainez-un-modele-lineaire/partie_2/env/lib/python3.10/site-packages/sklearn/svm/_base.py:1225: ConvergenceWarning: Liblinear failed to converge, increase the number of iterations.\n",
      "  warnings.warn(\n",
      "/Users/alexandre.gazagnes/Desktop/content/cours/fr/entrainez-un-modele-lineaire/partie_2/env/lib/python3.10/site-packages/sklearn/svm/_base.py:1225: ConvergenceWarning: Liblinear failed to converge, increase the number of iterations.\n",
      "  warnings.warn(\n",
      "/Users/alexandre.gazagnes/Desktop/content/cours/fr/entrainez-un-modele-lineaire/partie_2/env/lib/python3.10/site-packages/sklearn/svm/_base.py:1225: ConvergenceWarning: Liblinear failed to converge, increase the number of iterations.\n",
      "  warnings.warn(\n",
      "/Users/alexandre.gazagnes/Desktop/content/cours/fr/entrainez-un-modele-lineaire/partie_2/env/lib/python3.10/site-packages/sklearn/svm/_base.py:1225: ConvergenceWarning: Liblinear failed to converge, increase the number of iterations.\n",
      "  warnings.warn(\n",
      "/Users/alexandre.gazagnes/Desktop/content/cours/fr/entrainez-un-modele-lineaire/partie_2/env/lib/python3.10/site-packages/sklearn/svm/_base.py:1225: ConvergenceWarning: Liblinear failed to converge, increase the number of iterations.\n",
      "  warnings.warn(\n",
      "/Users/alexandre.gazagnes/Desktop/content/cours/fr/entrainez-un-modele-lineaire/partie_2/env/lib/python3.10/site-packages/sklearn/svm/_base.py:1225: ConvergenceWarning: Liblinear failed to converge, increase the number of iterations.\n",
      "  warnings.warn(\n",
      "/Users/alexandre.gazagnes/Desktop/content/cours/fr/entrainez-un-modele-lineaire/partie_2/env/lib/python3.10/site-packages/sklearn/svm/_base.py:1225: ConvergenceWarning: Liblinear failed to converge, increase the number of iterations.\n",
      "  warnings.warn(\n",
      "/Users/alexandre.gazagnes/Desktop/content/cours/fr/entrainez-un-modele-lineaire/partie_2/env/lib/python3.10/site-packages/sklearn/svm/_base.py:1225: ConvergenceWarning: Liblinear failed to converge, increase the number of iterations.\n",
      "  warnings.warn(\n",
      "/Users/alexandre.gazagnes/Desktop/content/cours/fr/entrainez-un-modele-lineaire/partie_2/env/lib/python3.10/site-packages/sklearn/svm/_base.py:1225: ConvergenceWarning: Liblinear failed to converge, increase the number of iterations.\n",
      "  warnings.warn(\n",
      "/Users/alexandre.gazagnes/Desktop/content/cours/fr/entrainez-un-modele-lineaire/partie_2/env/lib/python3.10/site-packages/sklearn/svm/_base.py:1225: ConvergenceWarning: Liblinear failed to converge, increase the number of iterations.\n",
      "  warnings.warn(\n",
      "/Users/alexandre.gazagnes/Desktop/content/cours/fr/entrainez-un-modele-lineaire/partie_2/env/lib/python3.10/site-packages/sklearn/svm/_base.py:1225: ConvergenceWarning: Liblinear failed to converge, increase the number of iterations.\n",
      "  warnings.warn(\n",
      "/Users/alexandre.gazagnes/Desktop/content/cours/fr/entrainez-un-modele-lineaire/partie_2/env/lib/python3.10/site-packages/sklearn/svm/_base.py:1225: ConvergenceWarning: Liblinear failed to converge, increase the number of iterations.\n",
      "  warnings.warn(\n",
      "/Users/alexandre.gazagnes/Desktop/content/cours/fr/entrainez-un-modele-lineaire/partie_2/env/lib/python3.10/site-packages/sklearn/svm/_base.py:1225: ConvergenceWarning: Liblinear failed to converge, increase the number of iterations.\n",
      "  warnings.warn(\n",
      "/Users/alexandre.gazagnes/Desktop/content/cours/fr/entrainez-un-modele-lineaire/partie_2/env/lib/python3.10/site-packages/sklearn/svm/_base.py:1225: ConvergenceWarning: Liblinear failed to converge, increase the number of iterations.\n",
      "  warnings.warn(\n",
      "/Users/alexandre.gazagnes/Desktop/content/cours/fr/entrainez-un-modele-lineaire/partie_2/env/lib/python3.10/site-packages/sklearn/svm/_base.py:1225: ConvergenceWarning: Liblinear failed to converge, increase the number of iterations.\n",
      "  warnings.warn(\n"
     ]
    },
    {
     "data": {
      "text/html": [
       "<style>#sk-container-id-5 {color: black;background-color: white;}#sk-container-id-5 pre{padding: 0;}#sk-container-id-5 div.sk-toggleable {background-color: white;}#sk-container-id-5 label.sk-toggleable__label {cursor: pointer;display: block;width: 100%;margin-bottom: 0;padding: 0.3em;box-sizing: border-box;text-align: center;}#sk-container-id-5 label.sk-toggleable__label-arrow:before {content: \"▸\";float: left;margin-right: 0.25em;color: #696969;}#sk-container-id-5 label.sk-toggleable__label-arrow:hover:before {color: black;}#sk-container-id-5 div.sk-estimator:hover label.sk-toggleable__label-arrow:before {color: black;}#sk-container-id-5 div.sk-toggleable__content {max-height: 0;max-width: 0;overflow: hidden;text-align: left;background-color: #f0f8ff;}#sk-container-id-5 div.sk-toggleable__content pre {margin: 0.2em;color: black;border-radius: 0.25em;background-color: #f0f8ff;}#sk-container-id-5 input.sk-toggleable__control:checked~div.sk-toggleable__content {max-height: 200px;max-width: 100%;overflow: auto;}#sk-container-id-5 input.sk-toggleable__control:checked~label.sk-toggleable__label-arrow:before {content: \"▾\";}#sk-container-id-5 div.sk-estimator input.sk-toggleable__control:checked~label.sk-toggleable__label {background-color: #d4ebff;}#sk-container-id-5 div.sk-label input.sk-toggleable__control:checked~label.sk-toggleable__label {background-color: #d4ebff;}#sk-container-id-5 input.sk-hidden--visually {border: 0;clip: rect(1px 1px 1px 1px);clip: rect(1px, 1px, 1px, 1px);height: 1px;margin: -1px;overflow: hidden;padding: 0;position: absolute;width: 1px;}#sk-container-id-5 div.sk-estimator {font-family: monospace;background-color: #f0f8ff;border: 1px dotted black;border-radius: 0.25em;box-sizing: border-box;margin-bottom: 0.5em;}#sk-container-id-5 div.sk-estimator:hover {background-color: #d4ebff;}#sk-container-id-5 div.sk-parallel-item::after {content: \"\";width: 100%;border-bottom: 1px solid gray;flex-grow: 1;}#sk-container-id-5 div.sk-label:hover label.sk-toggleable__label {background-color: #d4ebff;}#sk-container-id-5 div.sk-serial::before {content: \"\";position: absolute;border-left: 1px solid gray;box-sizing: border-box;top: 0;bottom: 0;left: 50%;z-index: 0;}#sk-container-id-5 div.sk-serial {display: flex;flex-direction: column;align-items: center;background-color: white;padding-right: 0.2em;padding-left: 0.2em;position: relative;}#sk-container-id-5 div.sk-item {position: relative;z-index: 1;}#sk-container-id-5 div.sk-parallel {display: flex;align-items: stretch;justify-content: center;background-color: white;position: relative;}#sk-container-id-5 div.sk-item::before, #sk-container-id-5 div.sk-parallel-item::before {content: \"\";position: absolute;border-left: 1px solid gray;box-sizing: border-box;top: 0;bottom: 0;left: 50%;z-index: -1;}#sk-container-id-5 div.sk-parallel-item {display: flex;flex-direction: column;z-index: 1;position: relative;background-color: white;}#sk-container-id-5 div.sk-parallel-item:first-child::after {align-self: flex-end;width: 50%;}#sk-container-id-5 div.sk-parallel-item:last-child::after {align-self: flex-start;width: 50%;}#sk-container-id-5 div.sk-parallel-item:only-child::after {width: 0;}#sk-container-id-5 div.sk-dashed-wrapped {border: 1px dashed gray;margin: 0 0.4em 0.5em 0.4em;box-sizing: border-box;padding-bottom: 0.4em;background-color: white;}#sk-container-id-5 div.sk-label label {font-family: monospace;font-weight: bold;display: inline-block;line-height: 1.2em;}#sk-container-id-5 div.sk-label-container {text-align: center;}#sk-container-id-5 div.sk-container {/* jupyter's `normalize.less` sets `[hidden] { display: none; }` but bootstrap.min.css set `[hidden] { display: none !important; }` so we also need the `!important` here to be able to override the default hidden behavior on the sphinx rendered scikit-learn.org. See: https://github.com/scikit-learn/scikit-learn/issues/21755 */display: inline-block !important;position: relative;}#sk-container-id-5 div.sk-text-repr-fallback {display: none;}</style><div id=\"sk-container-id-5\" class=\"sk-top-container\"><div class=\"sk-text-repr-fallback\"><pre>GridSearchCV(cv=5, estimator=LinearSVC(), n_jobs=-1,\n",
       "             param_grid={&#x27;C&#x27;: array([1.e-03, 1.e-02, 1.e-01, 1.e+00, 1.e+01, 1.e+02, 1.e+03])},\n",
       "             return_train_score=True, verbose=1)</pre><b>In a Jupyter environment, please rerun this cell to show the HTML representation or trust the notebook. <br />On GitHub, the HTML representation is unable to render, please try loading this page with nbviewer.org.</b></div><div class=\"sk-container\" hidden><div class=\"sk-item sk-dashed-wrapped\"><div class=\"sk-label-container\"><div class=\"sk-label sk-toggleable\"><input class=\"sk-toggleable__control sk-hidden--visually\" id=\"sk-estimator-id-7\" type=\"checkbox\" ><label for=\"sk-estimator-id-7\" class=\"sk-toggleable__label sk-toggleable__label-arrow\">GridSearchCV</label><div class=\"sk-toggleable__content\"><pre>GridSearchCV(cv=5, estimator=LinearSVC(), n_jobs=-1,\n",
       "             param_grid={&#x27;C&#x27;: array([1.e-03, 1.e-02, 1.e-01, 1.e+00, 1.e+01, 1.e+02, 1.e+03])},\n",
       "             return_train_score=True, verbose=1)</pre></div></div></div><div class=\"sk-parallel\"><div class=\"sk-parallel-item\"><div class=\"sk-item\"><div class=\"sk-label-container\"><div class=\"sk-label sk-toggleable\"><input class=\"sk-toggleable__control sk-hidden--visually\" id=\"sk-estimator-id-8\" type=\"checkbox\" ><label for=\"sk-estimator-id-8\" class=\"sk-toggleable__label sk-toggleable__label-arrow\">estimator: LinearSVC</label><div class=\"sk-toggleable__content\"><pre>LinearSVC()</pre></div></div></div><div class=\"sk-serial\"><div class=\"sk-item\"><div class=\"sk-estimator sk-toggleable\"><input class=\"sk-toggleable__control sk-hidden--visually\" id=\"sk-estimator-id-9\" type=\"checkbox\" ><label for=\"sk-estimator-id-9\" class=\"sk-toggleable__label sk-toggleable__label-arrow\">LinearSVC</label><div class=\"sk-toggleable__content\"><pre>LinearSVC()</pre></div></div></div></div></div></div></div></div></div></div>"
      ],
      "text/plain": [
       "GridSearchCV(cv=5, estimator=LinearSVC(), n_jobs=-1,\n",
       "             param_grid={'C': array([1.e-03, 1.e-02, 1.e-01, 1.e+00, 1.e+01, 1.e+02, 1.e+03])},\n",
       "             return_train_score=True, verbose=1)"
      ]
     },
     "execution_count": 51,
     "metadata": {},
     "output_type": "execute_result"
    }
   ],
   "source": [
    "grid = GridSearchCV(estimator, \n",
    "                    params, \n",
    "                    cv=5, \n",
    "                    n_jobs=-1, \n",
    "                    return_train_score=True, \n",
    "                    verbose=1)\n",
    "\n",
    "grid.fit(X_train, y_train)"
   ]
  },
  {
   "cell_type": "code",
   "execution_count": 52,
   "id": "d0aa93d0",
   "metadata": {},
   "outputs": [
    {
     "name": "stdout",
     "output_type": "stream",
     "text": [
      "{'C': 1.0}\n"
     ]
    }
   ],
   "source": [
    "print(grid.best_params_)"
   ]
  },
  {
   "cell_type": "code",
   "execution_count": 53,
   "id": "058f3cfd",
   "metadata": {},
   "outputs": [
    {
     "data": {
      "text/html": [
       "<div>\n",
       "<style scoped>\n",
       "    .dataframe tbody tr th:only-of-type {\n",
       "        vertical-align: middle;\n",
       "    }\n",
       "\n",
       "    .dataframe tbody tr th {\n",
       "        vertical-align: top;\n",
       "    }\n",
       "\n",
       "    .dataframe thead th {\n",
       "        text-align: right;\n",
       "    }\n",
       "</style>\n",
       "<table border=\"1\" class=\"dataframe\">\n",
       "  <thead>\n",
       "    <tr style=\"text-align: right;\">\n",
       "      <th></th>\n",
       "      <th>mean_fit_time</th>\n",
       "      <th>std_fit_time</th>\n",
       "      <th>mean_score_time</th>\n",
       "      <th>std_score_time</th>\n",
       "      <th>param_C</th>\n",
       "      <th>params</th>\n",
       "      <th>mean_test_score</th>\n",
       "      <th>std_test_score</th>\n",
       "      <th>rank_test_score</th>\n",
       "      <th>mean_train_score</th>\n",
       "      <th>std_train_score</th>\n",
       "    </tr>\n",
       "  </thead>\n",
       "  <tbody>\n",
       "    <tr>\n",
       "      <th>3</th>\n",
       "      <td>0.204632</td>\n",
       "      <td>0.016952</td>\n",
       "      <td>0.000921</td>\n",
       "      <td>0.000309</td>\n",
       "      <td>1.0</td>\n",
       "      <td>{'C': 1.0}</td>\n",
       "      <td>0.950931</td>\n",
       "      <td>0.005960</td>\n",
       "      <td>1</td>\n",
       "      <td>0.951899</td>\n",
       "      <td>0.005412</td>\n",
       "    </tr>\n",
       "    <tr>\n",
       "      <th>6</th>\n",
       "      <td>0.195690</td>\n",
       "      <td>0.024736</td>\n",
       "      <td>0.000751</td>\n",
       "      <td>0.000130</td>\n",
       "      <td>1000.0</td>\n",
       "      <td>{'C': 1000.0}</td>\n",
       "      <td>0.946707</td>\n",
       "      <td>0.011378</td>\n",
       "      <td>2</td>\n",
       "      <td>0.945656</td>\n",
       "      <td>0.006456</td>\n",
       "    </tr>\n",
       "    <tr>\n",
       "      <th>2</th>\n",
       "      <td>0.197587</td>\n",
       "      <td>0.016621</td>\n",
       "      <td>0.001168</td>\n",
       "      <td>0.000567</td>\n",
       "      <td>0.1</td>\n",
       "      <td>{'C': 0.1}</td>\n",
       "      <td>0.946358</td>\n",
       "      <td>0.005321</td>\n",
       "      <td>3</td>\n",
       "      <td>0.947986</td>\n",
       "      <td>0.001338</td>\n",
       "    </tr>\n",
       "    <tr>\n",
       "      <th>5</th>\n",
       "      <td>0.211872</td>\n",
       "      <td>0.014993</td>\n",
       "      <td>0.000994</td>\n",
       "      <td>0.000543</td>\n",
       "      <td>100.0</td>\n",
       "      <td>{'C': 100.0}</td>\n",
       "      <td>0.945479</td>\n",
       "      <td>0.007430</td>\n",
       "      <td>4</td>\n",
       "      <td>0.945172</td>\n",
       "      <td>0.008439</td>\n",
       "    </tr>\n",
       "    <tr>\n",
       "      <th>4</th>\n",
       "      <td>0.221417</td>\n",
       "      <td>0.019862</td>\n",
       "      <td>0.001585</td>\n",
       "      <td>0.001293</td>\n",
       "      <td>10.0</td>\n",
       "      <td>{'C': 10.0}</td>\n",
       "      <td>0.941257</td>\n",
       "      <td>0.009006</td>\n",
       "      <td>5</td>\n",
       "      <td>0.943809</td>\n",
       "      <td>0.007552</td>\n",
       "    </tr>\n",
       "    <tr>\n",
       "      <th>1</th>\n",
       "      <td>0.018766</td>\n",
       "      <td>0.001910</td>\n",
       "      <td>0.000658</td>\n",
       "      <td>0.000020</td>\n",
       "      <td>0.01</td>\n",
       "      <td>{'C': 0.01}</td>\n",
       "      <td>0.936861</td>\n",
       "      <td>0.003845</td>\n",
       "      <td>6</td>\n",
       "      <td>0.937214</td>\n",
       "      <td>0.000982</td>\n",
       "    </tr>\n",
       "    <tr>\n",
       "      <th>0</th>\n",
       "      <td>0.009393</td>\n",
       "      <td>0.002727</td>\n",
       "      <td>0.000850</td>\n",
       "      <td>0.000493</td>\n",
       "      <td>0.001</td>\n",
       "      <td>{'C': 0.001}</td>\n",
       "      <td>0.911712</td>\n",
       "      <td>0.003002</td>\n",
       "      <td>7</td>\n",
       "      <td>0.912812</td>\n",
       "      <td>0.002280</td>\n",
       "    </tr>\n",
       "  </tbody>\n",
       "</table>\n",
       "</div>"
      ],
      "text/plain": [
       "   mean_fit_time  std_fit_time  mean_score_time  std_score_time param_C  \\\n",
       "3       0.204632      0.016952         0.000921        0.000309     1.0   \n",
       "6       0.195690      0.024736         0.000751        0.000130  1000.0   \n",
       "2       0.197587      0.016621         0.001168        0.000567     0.1   \n",
       "5       0.211872      0.014993         0.000994        0.000543   100.0   \n",
       "4       0.221417      0.019862         0.001585        0.001293    10.0   \n",
       "1       0.018766      0.001910         0.000658        0.000020    0.01   \n",
       "0       0.009393      0.002727         0.000850        0.000493   0.001   \n",
       "\n",
       "          params  mean_test_score  std_test_score  rank_test_score  \\\n",
       "3     {'C': 1.0}         0.950931        0.005960                1   \n",
       "6  {'C': 1000.0}         0.946707        0.011378                2   \n",
       "2     {'C': 0.1}         0.946358        0.005321                3   \n",
       "5   {'C': 100.0}         0.945479        0.007430                4   \n",
       "4    {'C': 10.0}         0.941257        0.009006                5   \n",
       "1    {'C': 0.01}         0.936861        0.003845                6   \n",
       "0   {'C': 0.001}         0.911712        0.003002                7   \n",
       "\n",
       "   mean_train_score  std_train_score  \n",
       "3          0.951899         0.005412  \n",
       "6          0.945656         0.006456  \n",
       "2          0.947986         0.001338  \n",
       "5          0.945172         0.008439  \n",
       "4          0.943809         0.007552  \n",
       "1          0.937214         0.000982  \n",
       "0          0.912812         0.002280  "
      ]
     },
     "execution_count": 53,
     "metadata": {},
     "output_type": "execute_result"
    }
   ],
   "source": [
    "res = pd.DataFrame(grid.cv_results_)\n",
    "cols = [i for i in res.columns if \"split\" not in i]\n",
    "res = res[cols]\n",
    "res.sort_values(\"rank_test_score\")"
   ]
  },
  {
   "cell_type": "code",
   "execution_count": 54,
   "id": "34262eb4",
   "metadata": {},
   "outputs": [
    {
     "name": "stderr",
     "output_type": "stream",
     "text": [
      "/Users/alexandre.gazagnes/Desktop/content/cours/fr/entrainez-un-modele-lineaire/partie_2/env/lib/python3.10/site-packages/sklearn/svm/_base.py:1225: ConvergenceWarning: Liblinear failed to converge, increase the number of iterations.\n",
      "  warnings.warn(\n"
     ]
    },
    {
     "data": {
      "text/html": [
       "<style>#sk-container-id-6 {color: black;background-color: white;}#sk-container-id-6 pre{padding: 0;}#sk-container-id-6 div.sk-toggleable {background-color: white;}#sk-container-id-6 label.sk-toggleable__label {cursor: pointer;display: block;width: 100%;margin-bottom: 0;padding: 0.3em;box-sizing: border-box;text-align: center;}#sk-container-id-6 label.sk-toggleable__label-arrow:before {content: \"▸\";float: left;margin-right: 0.25em;color: #696969;}#sk-container-id-6 label.sk-toggleable__label-arrow:hover:before {color: black;}#sk-container-id-6 div.sk-estimator:hover label.sk-toggleable__label-arrow:before {color: black;}#sk-container-id-6 div.sk-toggleable__content {max-height: 0;max-width: 0;overflow: hidden;text-align: left;background-color: #f0f8ff;}#sk-container-id-6 div.sk-toggleable__content pre {margin: 0.2em;color: black;border-radius: 0.25em;background-color: #f0f8ff;}#sk-container-id-6 input.sk-toggleable__control:checked~div.sk-toggleable__content {max-height: 200px;max-width: 100%;overflow: auto;}#sk-container-id-6 input.sk-toggleable__control:checked~label.sk-toggleable__label-arrow:before {content: \"▾\";}#sk-container-id-6 div.sk-estimator input.sk-toggleable__control:checked~label.sk-toggleable__label {background-color: #d4ebff;}#sk-container-id-6 div.sk-label input.sk-toggleable__control:checked~label.sk-toggleable__label {background-color: #d4ebff;}#sk-container-id-6 input.sk-hidden--visually {border: 0;clip: rect(1px 1px 1px 1px);clip: rect(1px, 1px, 1px, 1px);height: 1px;margin: -1px;overflow: hidden;padding: 0;position: absolute;width: 1px;}#sk-container-id-6 div.sk-estimator {font-family: monospace;background-color: #f0f8ff;border: 1px dotted black;border-radius: 0.25em;box-sizing: border-box;margin-bottom: 0.5em;}#sk-container-id-6 div.sk-estimator:hover {background-color: #d4ebff;}#sk-container-id-6 div.sk-parallel-item::after {content: \"\";width: 100%;border-bottom: 1px solid gray;flex-grow: 1;}#sk-container-id-6 div.sk-label:hover label.sk-toggleable__label {background-color: #d4ebff;}#sk-container-id-6 div.sk-serial::before {content: \"\";position: absolute;border-left: 1px solid gray;box-sizing: border-box;top: 0;bottom: 0;left: 50%;z-index: 0;}#sk-container-id-6 div.sk-serial {display: flex;flex-direction: column;align-items: center;background-color: white;padding-right: 0.2em;padding-left: 0.2em;position: relative;}#sk-container-id-6 div.sk-item {position: relative;z-index: 1;}#sk-container-id-6 div.sk-parallel {display: flex;align-items: stretch;justify-content: center;background-color: white;position: relative;}#sk-container-id-6 div.sk-item::before, #sk-container-id-6 div.sk-parallel-item::before {content: \"\";position: absolute;border-left: 1px solid gray;box-sizing: border-box;top: 0;bottom: 0;left: 50%;z-index: -1;}#sk-container-id-6 div.sk-parallel-item {display: flex;flex-direction: column;z-index: 1;position: relative;background-color: white;}#sk-container-id-6 div.sk-parallel-item:first-child::after {align-self: flex-end;width: 50%;}#sk-container-id-6 div.sk-parallel-item:last-child::after {align-self: flex-start;width: 50%;}#sk-container-id-6 div.sk-parallel-item:only-child::after {width: 0;}#sk-container-id-6 div.sk-dashed-wrapped {border: 1px dashed gray;margin: 0 0.4em 0.5em 0.4em;box-sizing: border-box;padding-bottom: 0.4em;background-color: white;}#sk-container-id-6 div.sk-label label {font-family: monospace;font-weight: bold;display: inline-block;line-height: 1.2em;}#sk-container-id-6 div.sk-label-container {text-align: center;}#sk-container-id-6 div.sk-container {/* jupyter's `normalize.less` sets `[hidden] { display: none; }` but bootstrap.min.css set `[hidden] { display: none !important; }` so we also need the `!important` here to be able to override the default hidden behavior on the sphinx rendered scikit-learn.org. See: https://github.com/scikit-learn/scikit-learn/issues/21755 */display: inline-block !important;position: relative;}#sk-container-id-6 div.sk-text-repr-fallback {display: none;}</style><div id=\"sk-container-id-6\" class=\"sk-top-container\"><div class=\"sk-text-repr-fallback\"><pre>LinearSVC()</pre><b>In a Jupyter environment, please rerun this cell to show the HTML representation or trust the notebook. <br />On GitHub, the HTML representation is unable to render, please try loading this page with nbviewer.org.</b></div><div class=\"sk-container\" hidden><div class=\"sk-item\"><div class=\"sk-estimator sk-toggleable\"><input class=\"sk-toggleable__control sk-hidden--visually\" id=\"sk-estimator-id-10\" type=\"checkbox\" checked><label for=\"sk-estimator-id-10\" class=\"sk-toggleable__label sk-toggleable__label-arrow\">LinearSVC</label><div class=\"sk-toggleable__content\"><pre>LinearSVC()</pre></div></div></div></div></div>"
      ],
      "text/plain": [
       "LinearSVC()"
      ]
     },
     "execution_count": 54,
     "metadata": {},
     "output_type": "execute_result"
    }
   ],
   "source": [
    "estimator = LinearSVC(C=1.0)\n",
    "estimator.fit(X_train, y_train)"
   ]
  },
  {
   "cell_type": "code",
   "execution_count": 55,
   "id": "f07d6287",
   "metadata": {},
   "outputs": [
    {
     "name": "stdout",
     "output_type": "stream",
     "text": [
      "score train : 0.9506 score test : 0.9504 \n"
     ]
    }
   ],
   "source": [
    "tr_score = estimator.score(X_train, y_train).round(4)\n",
    "te_score = estimator.score(X_test, y_test).round(4)\n",
    "\n",
    "print(f\"score train : {tr_score} score test : {te_score} \")"
   ]
  },
  {
   "cell_type": "code",
   "execution_count": 56,
   "id": "2206422d",
   "metadata": {},
   "outputs": [
    {
     "data": {
      "text/plain": [
       "array([0, 1, 1, ..., 1, 0, 0])"
      ]
     },
     "execution_count": 56,
     "metadata": {},
     "output_type": "execute_result"
    }
   ],
   "source": [
    "y_pred = estimator.predict(X_test)\n",
    "y_pred"
   ]
  },
  {
   "cell_type": "code",
   "execution_count": 57,
   "id": "086d8cbf",
   "metadata": {},
   "outputs": [
    {
     "name": "stdout",
     "output_type": "stream",
     "text": [
      "0.95\n"
     ]
    }
   ],
   "source": [
    "false_positive_rate, true_positive_rate, thresholds = roc_curve(y_test, y_pred)\n",
    "roc_auc = auc(false_positive_rate, true_positive_rate).round(2)\n",
    "print(roc_auc)"
   ]
  },
  {
   "cell_type": "code",
   "execution_count": 58,
   "id": "f9240ee3",
   "metadata": {},
   "outputs": [
    {
     "data": {
      "image/png": "[encoded data removed]",
      "text/plain": [
       "<Figure size 720x720 with 1 Axes>"
      ]
     },
     "metadata": {
      "needs_background": "light"
     },
     "output_type": "display_data"
    }
   ],
   "source": [
    "plt.figure(figsize=(10,10))\n",
    "plt.title('Receiver Operating Characteristic')\n",
    "plt.plot(false_positive_rate,true_positive_rate, color='red',label = 'AUC = %0.2f' % roc_auc)\n",
    "plt.legend(loc = 'lower right')\n",
    "plt.plot([0, 1], [0, 1],linestyle='--')\n",
    "plt.axis('tight')\n",
    "plt.ylabel('True Positive Rate')\n",
    "plt.xlabel('False Positive Rate')\n",
    "plt.show()"
   ]
  },
  {
   "cell_type": "code",
   "execution_count": 59,
   "id": "1ae0757a",
   "metadata": {},
   "outputs": [
    {
     "data": {
      "text/html": [
       "<div>\n",
       "<style scoped>\n",
       "    .dataframe tbody tr th:only-of-type {\n",
       "        vertical-align: middle;\n",
       "    }\n",
       "\n",
       "    .dataframe tbody tr th {\n",
       "        vertical-align: top;\n",
       "    }\n",
       "\n",
       "    .dataframe thead th {\n",
       "        text-align: right;\n",
       "    }\n",
       "</style>\n",
       "<table border=\"1\" class=\"dataframe\">\n",
       "  <thead>\n",
       "    <tr style=\"text-align: right;\">\n",
       "      <th></th>\n",
       "      <th>pred_0</th>\n",
       "      <th>pred_1</th>\n",
       "    </tr>\n",
       "  </thead>\n",
       "  <tbody>\n",
       "    <tr>\n",
       "      <th>test_0</th>\n",
       "      <td>1198</td>\n",
       "      <td>59</td>\n",
       "    </tr>\n",
       "    <tr>\n",
       "      <th>test_1</th>\n",
       "      <td>62</td>\n",
       "      <td>1119</td>\n",
       "    </tr>\n",
       "  </tbody>\n",
       "</table>\n",
       "</div>"
      ],
      "text/plain": [
       "        pred_0  pred_1\n",
       "test_0    1198      59\n",
       "test_1      62    1119"
      ]
     },
     "execution_count": 59,
     "metadata": {},
     "output_type": "execute_result"
    }
   ],
   "source": [
    "mat = confusion_matrix(y_test, y_pred)\n",
    "mat = pd.DataFrame(mat)\n",
    "mat.columns = [f\"pred_{i}\" for i in mat.columns]\n",
    "mat.index = [f\"test_{i}\" for i in mat.index]\n",
    "mat"
   ]
  },
  {
   "cell_type": "code",
   "execution_count": null,
   "id": "968cad54",
   "metadata": {},
   "outputs": [],
   "source": []
  },
  {
   "cell_type": "code",
   "execution_count": null,
   "id": "e268d22e",
   "metadata": {},
   "outputs": [],
   "source": []
  }
 ],
 "metadata": {
  "hide_input": false,
  "kernelspec": {
   "display_name": "Python 3 (ipykernel)",
   "language": "python",
   "name": "python3"
  },
  "language_info": {
   "codemirror_mode": {
    "name": "ipython",
    "version": 3
   },
   "file_extension": ".py",
   "mimetype": "text/x-python",
   "name": "python",
   "nbconvert_exporter": "python",
   "pygments_lexer": "ipython3",
   "version": "3.10.5"
  }
 },
 "nbformat": 4,
 "nbformat_minor": 5
}
